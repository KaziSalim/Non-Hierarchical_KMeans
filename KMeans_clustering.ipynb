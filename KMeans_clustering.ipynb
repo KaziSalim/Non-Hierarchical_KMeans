{
 "cells": [
  {
   "cell_type": "markdown",
   "id": "b4e6c4d6",
   "metadata": {},
   "source": [
    "# KMeans clustering "
   ]
  },
  {
   "cell_type": "code",
   "execution_count": 1,
   "id": "05887af7",
   "metadata": {},
   "outputs": [],
   "source": [
    "import pandas as pd\n",
    "import numpy as np\n",
    "import matplotlib.pyplot as plt\n",
    "import seaborn as sns"
   ]
  },
  {
   "cell_type": "code",
   "execution_count": 78,
   "id": "07f76542",
   "metadata": {},
   "outputs": [],
   "source": [
    "import warnings\n",
    "warnings.filterwarnings(\"ignore\")"
   ]
  },
  {
   "cell_type": "code",
   "execution_count": 2,
   "id": "fef138e3",
   "metadata": {},
   "outputs": [],
   "source": [
    "data = pd.read_excel(r'D:\\Data Scientist\\Clustering\\Non Hierarchical clustering\\KMeans clustering\\Datasets\\University_Clustering.xlsx')"
   ]
  },
  {
   "cell_type": "code",
   "execution_count": 3,
   "id": "c2fd4a9d",
   "metadata": {},
   "outputs": [
    {
     "data": {
      "text/html": [
       "<div>\n",
       "<style scoped>\n",
       "    .dataframe tbody tr th:only-of-type {\n",
       "        vertical-align: middle;\n",
       "    }\n",
       "\n",
       "    .dataframe tbody tr th {\n",
       "        vertical-align: top;\n",
       "    }\n",
       "\n",
       "    .dataframe thead th {\n",
       "        text-align: right;\n",
       "    }\n",
       "</style>\n",
       "<table border=\"1\" class=\"dataframe\">\n",
       "  <thead>\n",
       "    <tr style=\"text-align: right;\">\n",
       "      <th></th>\n",
       "      <th>UnivID</th>\n",
       "      <th>Univ</th>\n",
       "      <th>State</th>\n",
       "      <th>SAT</th>\n",
       "      <th>Top10</th>\n",
       "      <th>Accept</th>\n",
       "      <th>SFRatio</th>\n",
       "      <th>Expenses</th>\n",
       "      <th>GradRate</th>\n",
       "    </tr>\n",
       "  </thead>\n",
       "  <tbody>\n",
       "    <tr>\n",
       "      <th>0</th>\n",
       "      <td>1</td>\n",
       "      <td>Brown</td>\n",
       "      <td>RI</td>\n",
       "      <td>1310.0</td>\n",
       "      <td>89</td>\n",
       "      <td>22</td>\n",
       "      <td>13.0</td>\n",
       "      <td>22704</td>\n",
       "      <td>94.0</td>\n",
       "    </tr>\n",
       "    <tr>\n",
       "      <th>1</th>\n",
       "      <td>2</td>\n",
       "      <td>CalTech</td>\n",
       "      <td>CA</td>\n",
       "      <td>1415.0</td>\n",
       "      <td>100</td>\n",
       "      <td>25</td>\n",
       "      <td>6.0</td>\n",
       "      <td>63575</td>\n",
       "      <td>81.0</td>\n",
       "    </tr>\n",
       "    <tr>\n",
       "      <th>2</th>\n",
       "      <td>3</td>\n",
       "      <td>CMU</td>\n",
       "      <td>PA</td>\n",
       "      <td>1260.0</td>\n",
       "      <td>62</td>\n",
       "      <td>59</td>\n",
       "      <td>9.0</td>\n",
       "      <td>25026</td>\n",
       "      <td>72.0</td>\n",
       "    </tr>\n",
       "    <tr>\n",
       "      <th>3</th>\n",
       "      <td>4</td>\n",
       "      <td>Columbia</td>\n",
       "      <td>NY</td>\n",
       "      <td>1310.0</td>\n",
       "      <td>76</td>\n",
       "      <td>24</td>\n",
       "      <td>12.0</td>\n",
       "      <td>31510</td>\n",
       "      <td>NaN</td>\n",
       "    </tr>\n",
       "    <tr>\n",
       "      <th>4</th>\n",
       "      <td>5</td>\n",
       "      <td>Cornell</td>\n",
       "      <td>NY</td>\n",
       "      <td>1280.0</td>\n",
       "      <td>83</td>\n",
       "      <td>33</td>\n",
       "      <td>13.0</td>\n",
       "      <td>21864</td>\n",
       "      <td>90.0</td>\n",
       "    </tr>\n",
       "    <tr>\n",
       "      <th>5</th>\n",
       "      <td>6</td>\n",
       "      <td>Dartmouth</td>\n",
       "      <td>NH</td>\n",
       "      <td>1340.0</td>\n",
       "      <td>89</td>\n",
       "      <td>23</td>\n",
       "      <td>10.0</td>\n",
       "      <td>32162</td>\n",
       "      <td>95.0</td>\n",
       "    </tr>\n",
       "    <tr>\n",
       "      <th>6</th>\n",
       "      <td>7</td>\n",
       "      <td>Duke</td>\n",
       "      <td>NC</td>\n",
       "      <td>1315.0</td>\n",
       "      <td>90</td>\n",
       "      <td>30</td>\n",
       "      <td>12.0</td>\n",
       "      <td>31585</td>\n",
       "      <td>95.0</td>\n",
       "    </tr>\n",
       "    <tr>\n",
       "      <th>7</th>\n",
       "      <td>8</td>\n",
       "      <td>Georgetown</td>\n",
       "      <td>DC</td>\n",
       "      <td>NaN</td>\n",
       "      <td>74</td>\n",
       "      <td>24</td>\n",
       "      <td>12.0</td>\n",
       "      <td>20126</td>\n",
       "      <td>92.0</td>\n",
       "    </tr>\n",
       "    <tr>\n",
       "      <th>8</th>\n",
       "      <td>9</td>\n",
       "      <td>Harvard</td>\n",
       "      <td>MA</td>\n",
       "      <td>1400.0</td>\n",
       "      <td>91</td>\n",
       "      <td>14</td>\n",
       "      <td>11.0</td>\n",
       "      <td>39525</td>\n",
       "      <td>97.0</td>\n",
       "    </tr>\n",
       "    <tr>\n",
       "      <th>9</th>\n",
       "      <td>10</td>\n",
       "      <td>JohnsHopkins</td>\n",
       "      <td>MD</td>\n",
       "      <td>1305.0</td>\n",
       "      <td>75</td>\n",
       "      <td>44</td>\n",
       "      <td>7.0</td>\n",
       "      <td>58691</td>\n",
       "      <td>87.0</td>\n",
       "    </tr>\n",
       "    <tr>\n",
       "      <th>10</th>\n",
       "      <td>11</td>\n",
       "      <td>MIT</td>\n",
       "      <td>MA</td>\n",
       "      <td>1380.0</td>\n",
       "      <td>94</td>\n",
       "      <td>30</td>\n",
       "      <td>10.0</td>\n",
       "      <td>34870</td>\n",
       "      <td>91.0</td>\n",
       "    </tr>\n",
       "    <tr>\n",
       "      <th>11</th>\n",
       "      <td>12</td>\n",
       "      <td>Northwestern</td>\n",
       "      <td>IL</td>\n",
       "      <td>1260.0</td>\n",
       "      <td>85</td>\n",
       "      <td>39</td>\n",
       "      <td>11.0</td>\n",
       "      <td>28052</td>\n",
       "      <td>89.0</td>\n",
       "    </tr>\n",
       "    <tr>\n",
       "      <th>12</th>\n",
       "      <td>13</td>\n",
       "      <td>NotreDame</td>\n",
       "      <td>IN</td>\n",
       "      <td>1255.0</td>\n",
       "      <td>81</td>\n",
       "      <td>42</td>\n",
       "      <td>13.0</td>\n",
       "      <td>15122</td>\n",
       "      <td>94.0</td>\n",
       "    </tr>\n",
       "    <tr>\n",
       "      <th>13</th>\n",
       "      <td>14</td>\n",
       "      <td>PennState</td>\n",
       "      <td>PA</td>\n",
       "      <td>1081.0</td>\n",
       "      <td>38</td>\n",
       "      <td>54</td>\n",
       "      <td>18.0</td>\n",
       "      <td>10185</td>\n",
       "      <td>80.0</td>\n",
       "    </tr>\n",
       "    <tr>\n",
       "      <th>14</th>\n",
       "      <td>15</td>\n",
       "      <td>Princeton</td>\n",
       "      <td>NJ</td>\n",
       "      <td>1375.0</td>\n",
       "      <td>91</td>\n",
       "      <td>14</td>\n",
       "      <td>8.0</td>\n",
       "      <td>30220</td>\n",
       "      <td>95.0</td>\n",
       "    </tr>\n",
       "    <tr>\n",
       "      <th>15</th>\n",
       "      <td>16</td>\n",
       "      <td>Purdue</td>\n",
       "      <td>IN</td>\n",
       "      <td>1005.0</td>\n",
       "      <td>28</td>\n",
       "      <td>90</td>\n",
       "      <td>19.0</td>\n",
       "      <td>9066</td>\n",
       "      <td>69.0</td>\n",
       "    </tr>\n",
       "    <tr>\n",
       "      <th>16</th>\n",
       "      <td>17</td>\n",
       "      <td>Stanford</td>\n",
       "      <td>CA</td>\n",
       "      <td>1360.0</td>\n",
       "      <td>90</td>\n",
       "      <td>20</td>\n",
       "      <td>12.0</td>\n",
       "      <td>36450</td>\n",
       "      <td>93.0</td>\n",
       "    </tr>\n",
       "    <tr>\n",
       "      <th>17</th>\n",
       "      <td>18</td>\n",
       "      <td>TexasA&amp;M</td>\n",
       "      <td>TX</td>\n",
       "      <td>1075.0</td>\n",
       "      <td>49</td>\n",
       "      <td>67</td>\n",
       "      <td>25.0</td>\n",
       "      <td>8704</td>\n",
       "      <td>67.0</td>\n",
       "    </tr>\n",
       "    <tr>\n",
       "      <th>18</th>\n",
       "      <td>19</td>\n",
       "      <td>UCBerkeley</td>\n",
       "      <td>CA</td>\n",
       "      <td>1240.0</td>\n",
       "      <td>95</td>\n",
       "      <td>40</td>\n",
       "      <td>17.0</td>\n",
       "      <td>15140</td>\n",
       "      <td>78.0</td>\n",
       "    </tr>\n",
       "    <tr>\n",
       "      <th>19</th>\n",
       "      <td>20</td>\n",
       "      <td>UChicago</td>\n",
       "      <td>IL</td>\n",
       "      <td>1290.0</td>\n",
       "      <td>75</td>\n",
       "      <td>50</td>\n",
       "      <td>NaN</td>\n",
       "      <td>38380</td>\n",
       "      <td>87.0</td>\n",
       "    </tr>\n",
       "    <tr>\n",
       "      <th>20</th>\n",
       "      <td>21</td>\n",
       "      <td>UMichigan</td>\n",
       "      <td>MI</td>\n",
       "      <td>1180.0</td>\n",
       "      <td>65</td>\n",
       "      <td>68</td>\n",
       "      <td>16.0</td>\n",
       "      <td>15470</td>\n",
       "      <td>85.0</td>\n",
       "    </tr>\n",
       "    <tr>\n",
       "      <th>21</th>\n",
       "      <td>22</td>\n",
       "      <td>UPenn</td>\n",
       "      <td>PA</td>\n",
       "      <td>1285.0</td>\n",
       "      <td>80</td>\n",
       "      <td>36</td>\n",
       "      <td>11.0</td>\n",
       "      <td>27553</td>\n",
       "      <td>90.0</td>\n",
       "    </tr>\n",
       "    <tr>\n",
       "      <th>22</th>\n",
       "      <td>23</td>\n",
       "      <td>UVA</td>\n",
       "      <td>VA</td>\n",
       "      <td>1225.0</td>\n",
       "      <td>77</td>\n",
       "      <td>44</td>\n",
       "      <td>14.0</td>\n",
       "      <td>13349</td>\n",
       "      <td>92.0</td>\n",
       "    </tr>\n",
       "    <tr>\n",
       "      <th>23</th>\n",
       "      <td>24</td>\n",
       "      <td>UWisconsin</td>\n",
       "      <td>WI</td>\n",
       "      <td>1085.0</td>\n",
       "      <td>40</td>\n",
       "      <td>69</td>\n",
       "      <td>15.0</td>\n",
       "      <td>11857</td>\n",
       "      <td>71.0</td>\n",
       "    </tr>\n",
       "    <tr>\n",
       "      <th>24</th>\n",
       "      <td>25</td>\n",
       "      <td>Yale</td>\n",
       "      <td>CT</td>\n",
       "      <td>1375.0</td>\n",
       "      <td>95</td>\n",
       "      <td>19</td>\n",
       "      <td>11.0</td>\n",
       "      <td>43514</td>\n",
       "      <td>96.0</td>\n",
       "    </tr>\n",
       "  </tbody>\n",
       "</table>\n",
       "</div>"
      ],
      "text/plain": [
       "    UnivID          Univ State     SAT  Top10  Accept  SFRatio  Expenses  \\\n",
       "0        1         Brown    RI  1310.0     89      22     13.0     22704   \n",
       "1        2       CalTech    CA  1415.0    100      25      6.0     63575   \n",
       "2        3           CMU    PA  1260.0     62      59      9.0     25026   \n",
       "3        4      Columbia    NY  1310.0     76      24     12.0     31510   \n",
       "4        5       Cornell    NY  1280.0     83      33     13.0     21864   \n",
       "5        6     Dartmouth    NH  1340.0     89      23     10.0     32162   \n",
       "6        7          Duke    NC  1315.0     90      30     12.0     31585   \n",
       "7        8    Georgetown    DC     NaN     74      24     12.0     20126   \n",
       "8        9       Harvard    MA  1400.0     91      14     11.0     39525   \n",
       "9       10  JohnsHopkins    MD  1305.0     75      44      7.0     58691   \n",
       "10      11           MIT    MA  1380.0     94      30     10.0     34870   \n",
       "11      12  Northwestern    IL  1260.0     85      39     11.0     28052   \n",
       "12      13     NotreDame    IN  1255.0     81      42     13.0     15122   \n",
       "13      14     PennState    PA  1081.0     38      54     18.0     10185   \n",
       "14      15     Princeton    NJ  1375.0     91      14      8.0     30220   \n",
       "15      16        Purdue    IN  1005.0     28      90     19.0      9066   \n",
       "16      17      Stanford    CA  1360.0     90      20     12.0     36450   \n",
       "17      18      TexasA&M    TX  1075.0     49      67     25.0      8704   \n",
       "18      19    UCBerkeley    CA  1240.0     95      40     17.0     15140   \n",
       "19      20      UChicago    IL  1290.0     75      50      NaN     38380   \n",
       "20      21     UMichigan    MI  1180.0     65      68     16.0     15470   \n",
       "21      22         UPenn    PA  1285.0     80      36     11.0     27553   \n",
       "22      23           UVA    VA  1225.0     77      44     14.0     13349   \n",
       "23      24    UWisconsin    WI  1085.0     40      69     15.0     11857   \n",
       "24      25          Yale    CT  1375.0     95      19     11.0     43514   \n",
       "\n",
       "    GradRate  \n",
       "0       94.0  \n",
       "1       81.0  \n",
       "2       72.0  \n",
       "3        NaN  \n",
       "4       90.0  \n",
       "5       95.0  \n",
       "6       95.0  \n",
       "7       92.0  \n",
       "8       97.0  \n",
       "9       87.0  \n",
       "10      91.0  \n",
       "11      89.0  \n",
       "12      94.0  \n",
       "13      80.0  \n",
       "14      95.0  \n",
       "15      69.0  \n",
       "16      93.0  \n",
       "17      67.0  \n",
       "18      78.0  \n",
       "19      87.0  \n",
       "20      85.0  \n",
       "21      90.0  \n",
       "22      92.0  \n",
       "23      71.0  \n",
       "24      96.0  "
      ]
     },
     "execution_count": 3,
     "metadata": {},
     "output_type": "execute_result"
    }
   ],
   "source": [
    "data"
   ]
  },
  {
   "cell_type": "code",
   "execution_count": 4,
   "id": "173fe2b3",
   "metadata": {},
   "outputs": [
    {
     "name": "stdout",
     "output_type": "stream",
     "text": [
      "<class 'pandas.core.frame.DataFrame'>\n",
      "RangeIndex: 25 entries, 0 to 24\n",
      "Data columns (total 9 columns):\n",
      " #   Column    Non-Null Count  Dtype  \n",
      "---  ------    --------------  -----  \n",
      " 0   UnivID    25 non-null     int64  \n",
      " 1   Univ      25 non-null     object \n",
      " 2   State     25 non-null     object \n",
      " 3   SAT       24 non-null     float64\n",
      " 4   Top10     25 non-null     int64  \n",
      " 5   Accept    25 non-null     int64  \n",
      " 6   SFRatio   24 non-null     float64\n",
      " 7   Expenses  25 non-null     int64  \n",
      " 8   GradRate  24 non-null     float64\n",
      "dtypes: float64(3), int64(4), object(2)\n",
      "memory usage: 1.9+ KB\n"
     ]
    }
   ],
   "source": [
    "data.info()"
   ]
  },
  {
   "cell_type": "code",
   "execution_count": 5,
   "id": "2e7d6335",
   "metadata": {},
   "outputs": [],
   "source": [
    "data.drop(['UnivID'], axis = 1,inplace = True)"
   ]
  },
  {
   "cell_type": "code",
   "execution_count": 7,
   "id": "49c27bab",
   "metadata": {},
   "outputs": [
    {
     "name": "stdout",
     "output_type": "stream",
     "text": [
      "<class 'pandas.core.frame.DataFrame'>\n",
      "RangeIndex: 25 entries, 0 to 24\n",
      "Data columns (total 8 columns):\n",
      " #   Column    Non-Null Count  Dtype  \n",
      "---  ------    --------------  -----  \n",
      " 0   Univ      25 non-null     object \n",
      " 1   State     25 non-null     object \n",
      " 2   SAT       24 non-null     float64\n",
      " 3   Top10     25 non-null     int64  \n",
      " 4   Accept    25 non-null     int64  \n",
      " 5   SFRatio   24 non-null     float64\n",
      " 6   Expenses  25 non-null     int64  \n",
      " 7   GradRate  24 non-null     float64\n",
      "dtypes: float64(3), int64(3), object(2)\n",
      "memory usage: 1.7+ KB\n"
     ]
    }
   ],
   "source": [
    "data.info()"
   ]
  },
  {
   "cell_type": "code",
   "execution_count": 10,
   "id": "53d49d79",
   "metadata": {},
   "outputs": [
    {
     "data": {
      "application/vnd.jupyter.widget-view+json": {
       "model_id": "831843be9c3f44c7a0cffacc49d78358",
       "version_major": 2,
       "version_minor": 0
      },
      "text/plain": [
       "                                             |          | [  0%]   00:00 -> (? left)"
      ]
     },
     "metadata": {},
     "output_type": "display_data"
    },
    {
     "name": "stdout",
     "output_type": "stream",
     "text": [
      "Report SWEETVIZ_REPORT.html was generated! NOTEBOOK/COLAB USERS: the web browser MAY not pop up, regardless, the report IS saved in your notebook/colab files.\n"
     ]
    }
   ],
   "source": [
    "# EDA\n",
    "import sweetviz as sv\n",
    "s = sv.analyze(data)\n",
    "s.show_html()"
   ]
  },
  {
   "cell_type": "code",
   "execution_count": 11,
   "id": "29570cc2",
   "metadata": {},
   "outputs": [
    {
     "data": {
      "text/html": [
       "<div>\n",
       "<style scoped>\n",
       "    .dataframe tbody tr th:only-of-type {\n",
       "        vertical-align: middle;\n",
       "    }\n",
       "\n",
       "    .dataframe tbody tr th {\n",
       "        vertical-align: top;\n",
       "    }\n",
       "\n",
       "    .dataframe thead th {\n",
       "        text-align: right;\n",
       "    }\n",
       "</style>\n",
       "<table border=\"1\" class=\"dataframe\">\n",
       "  <thead>\n",
       "    <tr style=\"text-align: right;\">\n",
       "      <th></th>\n",
       "      <th>SAT</th>\n",
       "      <th>Top10</th>\n",
       "      <th>Accept</th>\n",
       "      <th>SFRatio</th>\n",
       "      <th>Expenses</th>\n",
       "      <th>GradRate</th>\n",
       "    </tr>\n",
       "  </thead>\n",
       "  <tbody>\n",
       "    <tr>\n",
       "      <th>count</th>\n",
       "      <td>24.000000</td>\n",
       "      <td>25.000000</td>\n",
       "      <td>25.000000</td>\n",
       "      <td>24.000000</td>\n",
       "      <td>25.000000</td>\n",
       "      <td>24.000000</td>\n",
       "    </tr>\n",
       "    <tr>\n",
       "      <th>mean</th>\n",
       "      <td>1266.916667</td>\n",
       "      <td>76.480000</td>\n",
       "      <td>39.200000</td>\n",
       "      <td>12.708333</td>\n",
       "      <td>27388.000000</td>\n",
       "      <td>86.666667</td>\n",
       "    </tr>\n",
       "    <tr>\n",
       "      <th>std</th>\n",
       "      <td>110.663578</td>\n",
       "      <td>19.433905</td>\n",
       "      <td>19.727308</td>\n",
       "      <td>4.154402</td>\n",
       "      <td>14424.883165</td>\n",
       "      <td>9.248580</td>\n",
       "    </tr>\n",
       "    <tr>\n",
       "      <th>min</th>\n",
       "      <td>1005.000000</td>\n",
       "      <td>28.000000</td>\n",
       "      <td>14.000000</td>\n",
       "      <td>6.000000</td>\n",
       "      <td>8704.000000</td>\n",
       "      <td>67.000000</td>\n",
       "    </tr>\n",
       "    <tr>\n",
       "      <th>25%</th>\n",
       "      <td>1236.250000</td>\n",
       "      <td>74.000000</td>\n",
       "      <td>24.000000</td>\n",
       "      <td>10.750000</td>\n",
       "      <td>15140.000000</td>\n",
       "      <td>80.750000</td>\n",
       "    </tr>\n",
       "    <tr>\n",
       "      <th>50%</th>\n",
       "      <td>1287.500000</td>\n",
       "      <td>81.000000</td>\n",
       "      <td>36.000000</td>\n",
       "      <td>12.000000</td>\n",
       "      <td>27553.000000</td>\n",
       "      <td>90.000000</td>\n",
       "    </tr>\n",
       "    <tr>\n",
       "      <th>75%</th>\n",
       "      <td>1345.000000</td>\n",
       "      <td>90.000000</td>\n",
       "      <td>50.000000</td>\n",
       "      <td>14.250000</td>\n",
       "      <td>34870.000000</td>\n",
       "      <td>94.000000</td>\n",
       "    </tr>\n",
       "    <tr>\n",
       "      <th>max</th>\n",
       "      <td>1415.000000</td>\n",
       "      <td>100.000000</td>\n",
       "      <td>90.000000</td>\n",
       "      <td>25.000000</td>\n",
       "      <td>63575.000000</td>\n",
       "      <td>97.000000</td>\n",
       "    </tr>\n",
       "  </tbody>\n",
       "</table>\n",
       "</div>"
      ],
      "text/plain": [
       "               SAT       Top10     Accept    SFRatio      Expenses   GradRate\n",
       "count    24.000000   25.000000  25.000000  24.000000     25.000000  24.000000\n",
       "mean   1266.916667   76.480000  39.200000  12.708333  27388.000000  86.666667\n",
       "std     110.663578   19.433905  19.727308   4.154402  14424.883165   9.248580\n",
       "min    1005.000000   28.000000  14.000000   6.000000   8704.000000  67.000000\n",
       "25%    1236.250000   74.000000  24.000000  10.750000  15140.000000  80.750000\n",
       "50%    1287.500000   81.000000  36.000000  12.000000  27553.000000  90.000000\n",
       "75%    1345.000000   90.000000  50.000000  14.250000  34870.000000  94.000000\n",
       "max    1415.000000  100.000000  90.000000  25.000000  63575.000000  97.000000"
      ]
     },
     "execution_count": 11,
     "metadata": {},
     "output_type": "execute_result"
    }
   ],
   "source": [
    "data.describe()"
   ]
  },
  {
   "cell_type": "code",
   "execution_count": null,
   "id": "ebfe4af1",
   "metadata": {},
   "outputs": [],
   "source": [
    "# Null values"
   ]
  },
  {
   "cell_type": "code",
   "execution_count": 12,
   "id": "94b9ab22",
   "metadata": {},
   "outputs": [
    {
     "data": {
      "text/plain": [
       "Univ        0\n",
       "State       0\n",
       "SAT         1\n",
       "Top10       0\n",
       "Accept      0\n",
       "SFRatio     1\n",
       "Expenses    0\n",
       "GradRate    1\n",
       "dtype: int64"
      ]
     },
     "execution_count": 12,
     "metadata": {},
     "output_type": "execute_result"
    }
   ],
   "source": [
    "data.isna().sum()"
   ]
  },
  {
   "cell_type": "code",
   "execution_count": 13,
   "id": "89d93958",
   "metadata": {},
   "outputs": [],
   "source": [
    "from sklearn.impute import SimpleImputer"
   ]
  },
  {
   "cell_type": "code",
   "execution_count": 17,
   "id": "32a86b72",
   "metadata": {},
   "outputs": [],
   "source": [
    "mean_imputer = SimpleImputer(missing_values = np.nan, strategy = 'mean')"
   ]
  },
  {
   "cell_type": "code",
   "execution_count": 21,
   "id": "409e16c8",
   "metadata": {},
   "outputs": [
    {
     "data": {
      "text/plain": [
       "0"
      ]
     },
     "execution_count": 21,
     "metadata": {},
     "output_type": "execute_result"
    }
   ],
   "source": [
    "data['SAT'] = pd.DataFrame(mean_imputer.fit_transform(data[['SAT']]))\n",
    "data['SAT'].isna().sum()"
   ]
  },
  {
   "cell_type": "code",
   "execution_count": 22,
   "id": "a741ef80",
   "metadata": {},
   "outputs": [],
   "source": [
    "median_imputer = SimpleImputer(missing_values = np.nan, strategy = 'median')"
   ]
  },
  {
   "cell_type": "code",
   "execution_count": 23,
   "id": "a76211f4",
   "metadata": {},
   "outputs": [
    {
     "data": {
      "text/plain": [
       "0"
      ]
     },
     "execution_count": 23,
     "metadata": {},
     "output_type": "execute_result"
    }
   ],
   "source": [
    "data['SFRatio'] = pd.DataFrame(median_imputer.fit_transform(data[['SFRatio']]))\n",
    "data['SFRatio'].isna().sum()"
   ]
  },
  {
   "cell_type": "code",
   "execution_count": 24,
   "id": "88acbfbc",
   "metadata": {},
   "outputs": [
    {
     "data": {
      "text/plain": [
       "0"
      ]
     },
     "execution_count": 24,
     "metadata": {},
     "output_type": "execute_result"
    }
   ],
   "source": [
    "data['GradRate'] = pd.DataFrame(mean_imputer.fit_transform(data[['GradRate']]))\n",
    "data['GradRate'].isna().sum()"
   ]
  },
  {
   "cell_type": "code",
   "execution_count": 25,
   "id": "671cbd4d",
   "metadata": {},
   "outputs": [
    {
     "name": "stdout",
     "output_type": "stream",
     "text": [
      "<class 'pandas.core.frame.DataFrame'>\n",
      "RangeIndex: 25 entries, 0 to 24\n",
      "Data columns (total 8 columns):\n",
      " #   Column    Non-Null Count  Dtype  \n",
      "---  ------    --------------  -----  \n",
      " 0   Univ      25 non-null     object \n",
      " 1   State     25 non-null     object \n",
      " 2   SAT       25 non-null     float64\n",
      " 3   Top10     25 non-null     int64  \n",
      " 4   Accept    25 non-null     int64  \n",
      " 5   SFRatio   25 non-null     float64\n",
      " 6   Expenses  25 non-null     int64  \n",
      " 7   GradRate  25 non-null     float64\n",
      "dtypes: float64(3), int64(3), object(2)\n",
      "memory usage: 1.7+ KB\n"
     ]
    }
   ],
   "source": [
    "data.info()"
   ]
  },
  {
   "cell_type": "code",
   "execution_count": null,
   "id": "975ba6c8",
   "metadata": {},
   "outputs": [],
   "source": [
    "# outlier analysis using box plot"
   ]
  },
  {
   "cell_type": "code",
   "execution_count": 26,
   "id": "ff4c3416",
   "metadata": {},
   "outputs": [
    {
     "data": {
      "text/plain": [
       "SAT            Axes(0.125,0.11;0.110714x0.77)\n",
       "Top10       Axes(0.257857,0.11;0.110714x0.77)\n",
       "Accept      Axes(0.390714,0.11;0.110714x0.77)\n",
       "SFRatio     Axes(0.523571,0.11;0.110714x0.77)\n",
       "Expenses    Axes(0.656429,0.11;0.110714x0.77)\n",
       "GradRate    Axes(0.789286,0.11;0.110714x0.77)\n",
       "dtype: object"
      ]
     },
     "execution_count": 26,
     "metadata": {},
     "output_type": "execute_result"
    },
    {
     "data": {
      "image/png": "[encoded data removed]",
      "text/plain": [
       "<Figure size 1000x600 with 6 Axes>"
      ]
     },
     "metadata": {},
     "output_type": "display_data"
    }
   ],
   "source": [
    "data.plot(kind = 'box', subplots = True, sharey = False, figsize =(10,6))"
   ]
  },
  {
   "cell_type": "code",
   "execution_count": 28,
   "id": "a8602bcc",
   "metadata": {},
   "outputs": [],
   "source": [
    "from feature_engine.outliers import Winsorizer"
   ]
  },
  {
   "cell_type": "code",
   "execution_count": 35,
   "id": "acb54652",
   "metadata": {},
   "outputs": [],
   "source": [
    "winsor_iqr = Winsorizer(capping_method = 'iqr',\n",
    "                       tail = 'both',\n",
    "                       fold = 1.5,\n",
    "                       variables = ['SAT'])"
   ]
  },
  {
   "cell_type": "code",
   "execution_count": 36,
   "id": "a67d5f99",
   "metadata": {},
   "outputs": [],
   "source": [
    "data['SAT'] = pd.DataFrame(winsor_iqr.fit_transform(data[['SAT']]))"
   ]
  },
  {
   "cell_type": "code",
   "execution_count": 37,
   "id": "1ed59f26",
   "metadata": {},
   "outputs": [],
   "source": [
    "winsor_iqr = Winsorizer(capping_method = 'iqr',\n",
    "                       tail = 'both',\n",
    "                       fold = 1.5,\n",
    "                       variables = ['Top10'])\n",
    "data['Top10'] = pd.DataFrame(winsor_iqr.fit_transform(data[['Top10']]))"
   ]
  },
  {
   "cell_type": "code",
   "execution_count": 38,
   "id": "6b7ec861",
   "metadata": {},
   "outputs": [],
   "source": [
    "winsor_iqr = Winsorizer(capping_method = 'iqr',\n",
    "                       tail = 'both',\n",
    "                       fold = 1.5,\n",
    "                       variables = ['Accept'])\n",
    "data['Accept'] = pd.DataFrame(winsor_iqr.fit_transform(data[['Accept']]))"
   ]
  },
  {
   "cell_type": "code",
   "execution_count": 39,
   "id": "cf7400c5",
   "metadata": {},
   "outputs": [],
   "source": [
    "winsor_iqr = Winsorizer(capping_method = 'iqr',\n",
    "                       tail = 'both',\n",
    "                       fold = 1.5,\n",
    "                       variables = ['SFRatio'])\n",
    "data['SFRatio'] = pd.DataFrame(winsor_iqr.fit_transform(data[['SFRatio']]))"
   ]
  },
  {
   "cell_type": "code",
   "execution_count": 40,
   "id": "e5ee864b",
   "metadata": {},
   "outputs": [
    {
     "data": {
      "text/plain": [
       "SAT            Axes(0.125,0.11;0.110714x0.77)\n",
       "Top10       Axes(0.257857,0.11;0.110714x0.77)\n",
       "Accept      Axes(0.390714,0.11;0.110714x0.77)\n",
       "SFRatio     Axes(0.523571,0.11;0.110714x0.77)\n",
       "Expenses    Axes(0.656429,0.11;0.110714x0.77)\n",
       "GradRate    Axes(0.789286,0.11;0.110714x0.77)\n",
       "dtype: object"
      ]
     },
     "execution_count": 40,
     "metadata": {},
     "output_type": "execute_result"
    },
    {
     "data": {
      "image/png": "[encoded data removed]",
      "text/plain": [
       "<Figure size 1000x600 with 6 Axes>"
      ]
     },
     "metadata": {},
     "output_type": "display_data"
    }
   ],
   "source": [
    "data.plot(kind = 'box', subplots = True , sharey = False, figsize = (10,6))"
   ]
  },
  {
   "cell_type": "code",
   "execution_count": 41,
   "id": "0abcd183",
   "metadata": {},
   "outputs": [
    {
     "data": {
      "text/html": [
       "<div>\n",
       "<style scoped>\n",
       "    .dataframe tbody tr th:only-of-type {\n",
       "        vertical-align: middle;\n",
       "    }\n",
       "\n",
       "    .dataframe tbody tr th {\n",
       "        vertical-align: top;\n",
       "    }\n",
       "\n",
       "    .dataframe thead th {\n",
       "        text-align: right;\n",
       "    }\n",
       "</style>\n",
       "<table border=\"1\" class=\"dataframe\">\n",
       "  <thead>\n",
       "    <tr style=\"text-align: right;\">\n",
       "      <th></th>\n",
       "      <th>Univ</th>\n",
       "      <th>State</th>\n",
       "      <th>SAT</th>\n",
       "      <th>Top10</th>\n",
       "      <th>Accept</th>\n",
       "      <th>SFRatio</th>\n",
       "      <th>Expenses</th>\n",
       "      <th>GradRate</th>\n",
       "    </tr>\n",
       "  </thead>\n",
       "  <tbody>\n",
       "    <tr>\n",
       "      <th>0</th>\n",
       "      <td>Brown</td>\n",
       "      <td>RI</td>\n",
       "      <td>1310.0</td>\n",
       "      <td>89</td>\n",
       "      <td>22</td>\n",
       "      <td>13.0</td>\n",
       "      <td>22704</td>\n",
       "      <td>94.000000</td>\n",
       "    </tr>\n",
       "    <tr>\n",
       "      <th>1</th>\n",
       "      <td>CalTech</td>\n",
       "      <td>CA</td>\n",
       "      <td>1415.0</td>\n",
       "      <td>100</td>\n",
       "      <td>25</td>\n",
       "      <td>6.5</td>\n",
       "      <td>63575</td>\n",
       "      <td>81.000000</td>\n",
       "    </tr>\n",
       "    <tr>\n",
       "      <th>2</th>\n",
       "      <td>CMU</td>\n",
       "      <td>PA</td>\n",
       "      <td>1260.0</td>\n",
       "      <td>62</td>\n",
       "      <td>59</td>\n",
       "      <td>9.0</td>\n",
       "      <td>25026</td>\n",
       "      <td>72.000000</td>\n",
       "    </tr>\n",
       "    <tr>\n",
       "      <th>3</th>\n",
       "      <td>Columbia</td>\n",
       "      <td>NY</td>\n",
       "      <td>1310.0</td>\n",
       "      <td>76</td>\n",
       "      <td>24</td>\n",
       "      <td>12.0</td>\n",
       "      <td>31510</td>\n",
       "      <td>86.666667</td>\n",
       "    </tr>\n",
       "    <tr>\n",
       "      <th>4</th>\n",
       "      <td>Cornell</td>\n",
       "      <td>NY</td>\n",
       "      <td>1280.0</td>\n",
       "      <td>83</td>\n",
       "      <td>33</td>\n",
       "      <td>13.0</td>\n",
       "      <td>21864</td>\n",
       "      <td>90.000000</td>\n",
       "    </tr>\n",
       "  </tbody>\n",
       "</table>\n",
       "</div>"
      ],
      "text/plain": [
       "       Univ State     SAT  Top10  Accept  SFRatio  Expenses   GradRate\n",
       "0     Brown    RI  1310.0     89      22     13.0     22704  94.000000\n",
       "1   CalTech    CA  1415.0    100      25      6.5     63575  81.000000\n",
       "2       CMU    PA  1260.0     62      59      9.0     25026  72.000000\n",
       "3  Columbia    NY  1310.0     76      24     12.0     31510  86.666667\n",
       "4   Cornell    NY  1280.0     83      33     13.0     21864  90.000000"
      ]
     },
     "execution_count": 41,
     "metadata": {},
     "output_type": "execute_result"
    }
   ],
   "source": [
    "data.head()"
   ]
  },
  {
   "cell_type": "code",
   "execution_count": 43,
   "id": "7ab6a35c",
   "metadata": {},
   "outputs": [
    {
     "data": {
      "text/html": [
       "<div>\n",
       "<style scoped>\n",
       "    .dataframe tbody tr th:only-of-type {\n",
       "        vertical-align: middle;\n",
       "    }\n",
       "\n",
       "    .dataframe tbody tr th {\n",
       "        vertical-align: top;\n",
       "    }\n",
       "\n",
       "    .dataframe thead th {\n",
       "        text-align: right;\n",
       "    }\n",
       "</style>\n",
       "<table border=\"1\" class=\"dataframe\">\n",
       "  <thead>\n",
       "    <tr style=\"text-align: right;\">\n",
       "      <th></th>\n",
       "      <th>Univ</th>\n",
       "      <th>State</th>\n",
       "    </tr>\n",
       "  </thead>\n",
       "  <tbody>\n",
       "    <tr>\n",
       "      <th>0</th>\n",
       "      <td>Brown</td>\n",
       "      <td>RI</td>\n",
       "    </tr>\n",
       "    <tr>\n",
       "      <th>1</th>\n",
       "      <td>CalTech</td>\n",
       "      <td>CA</td>\n",
       "    </tr>\n",
       "    <tr>\n",
       "      <th>2</th>\n",
       "      <td>CMU</td>\n",
       "      <td>PA</td>\n",
       "    </tr>\n",
       "    <tr>\n",
       "      <th>3</th>\n",
       "      <td>Columbia</td>\n",
       "      <td>NY</td>\n",
       "    </tr>\n",
       "    <tr>\n",
       "      <th>4</th>\n",
       "      <td>Cornell</td>\n",
       "      <td>NY</td>\n",
       "    </tr>\n",
       "  </tbody>\n",
       "</table>\n",
       "</div>"
      ],
      "text/plain": [
       "       Univ State\n",
       "0     Brown    RI\n",
       "1   CalTech    CA\n",
       "2       CMU    PA\n",
       "3  Columbia    NY\n",
       "4   Cornell    NY"
      ]
     },
     "execution_count": 43,
     "metadata": {},
     "output_type": "execute_result"
    }
   ],
   "source": [
    "df_cate = data.iloc[ : , :2]\n",
    "df_cate.head()"
   ]
  },
  {
   "cell_type": "code",
   "execution_count": null,
   "id": "12adca0e",
   "metadata": {},
   "outputs": [],
   "source": [
    "# categorical data convert into [0,1]"
   ]
  },
  {
   "cell_type": "code",
   "execution_count": 47,
   "id": "705925ca",
   "metadata": {},
   "outputs": [
    {
     "data": {
      "text/html": [
       "<div>\n",
       "<style scoped>\n",
       "    .dataframe tbody tr th:only-of-type {\n",
       "        vertical-align: middle;\n",
       "    }\n",
       "\n",
       "    .dataframe tbody tr th {\n",
       "        vertical-align: top;\n",
       "    }\n",
       "\n",
       "    .dataframe thead th {\n",
       "        text-align: right;\n",
       "    }\n",
       "</style>\n",
       "<table border=\"1\" class=\"dataframe\">\n",
       "  <thead>\n",
       "    <tr style=\"text-align: right;\">\n",
       "      <th></th>\n",
       "      <th>Univ_CMU</th>\n",
       "      <th>Univ_CalTech</th>\n",
       "      <th>Univ_Columbia</th>\n",
       "      <th>Univ_Cornell</th>\n",
       "      <th>Univ_Dartmouth</th>\n",
       "      <th>Univ_Duke</th>\n",
       "      <th>Univ_Georgetown</th>\n",
       "      <th>Univ_Harvard</th>\n",
       "      <th>Univ_JohnsHopkins</th>\n",
       "      <th>Univ_MIT</th>\n",
       "      <th>...</th>\n",
       "      <th>State_MI</th>\n",
       "      <th>State_NC</th>\n",
       "      <th>State_NH</th>\n",
       "      <th>State_NJ</th>\n",
       "      <th>State_NY</th>\n",
       "      <th>State_PA</th>\n",
       "      <th>State_RI</th>\n",
       "      <th>State_TX</th>\n",
       "      <th>State_VA</th>\n",
       "      <th>State_WI</th>\n",
       "    </tr>\n",
       "  </thead>\n",
       "  <tbody>\n",
       "    <tr>\n",
       "      <th>0</th>\n",
       "      <td>0</td>\n",
       "      <td>0</td>\n",
       "      <td>0</td>\n",
       "      <td>0</td>\n",
       "      <td>0</td>\n",
       "      <td>0</td>\n",
       "      <td>0</td>\n",
       "      <td>0</td>\n",
       "      <td>0</td>\n",
       "      <td>0</td>\n",
       "      <td>...</td>\n",
       "      <td>0</td>\n",
       "      <td>0</td>\n",
       "      <td>0</td>\n",
       "      <td>0</td>\n",
       "      <td>0</td>\n",
       "      <td>0</td>\n",
       "      <td>1</td>\n",
       "      <td>0</td>\n",
       "      <td>0</td>\n",
       "      <td>0</td>\n",
       "    </tr>\n",
       "    <tr>\n",
       "      <th>1</th>\n",
       "      <td>0</td>\n",
       "      <td>1</td>\n",
       "      <td>0</td>\n",
       "      <td>0</td>\n",
       "      <td>0</td>\n",
       "      <td>0</td>\n",
       "      <td>0</td>\n",
       "      <td>0</td>\n",
       "      <td>0</td>\n",
       "      <td>0</td>\n",
       "      <td>...</td>\n",
       "      <td>0</td>\n",
       "      <td>0</td>\n",
       "      <td>0</td>\n",
       "      <td>0</td>\n",
       "      <td>0</td>\n",
       "      <td>0</td>\n",
       "      <td>0</td>\n",
       "      <td>0</td>\n",
       "      <td>0</td>\n",
       "      <td>0</td>\n",
       "    </tr>\n",
       "    <tr>\n",
       "      <th>2</th>\n",
       "      <td>1</td>\n",
       "      <td>0</td>\n",
       "      <td>0</td>\n",
       "      <td>0</td>\n",
       "      <td>0</td>\n",
       "      <td>0</td>\n",
       "      <td>0</td>\n",
       "      <td>0</td>\n",
       "      <td>0</td>\n",
       "      <td>0</td>\n",
       "      <td>...</td>\n",
       "      <td>0</td>\n",
       "      <td>0</td>\n",
       "      <td>0</td>\n",
       "      <td>0</td>\n",
       "      <td>0</td>\n",
       "      <td>1</td>\n",
       "      <td>0</td>\n",
       "      <td>0</td>\n",
       "      <td>0</td>\n",
       "      <td>0</td>\n",
       "    </tr>\n",
       "    <tr>\n",
       "      <th>3</th>\n",
       "      <td>0</td>\n",
       "      <td>0</td>\n",
       "      <td>1</td>\n",
       "      <td>0</td>\n",
       "      <td>0</td>\n",
       "      <td>0</td>\n",
       "      <td>0</td>\n",
       "      <td>0</td>\n",
       "      <td>0</td>\n",
       "      <td>0</td>\n",
       "      <td>...</td>\n",
       "      <td>0</td>\n",
       "      <td>0</td>\n",
       "      <td>0</td>\n",
       "      <td>0</td>\n",
       "      <td>1</td>\n",
       "      <td>0</td>\n",
       "      <td>0</td>\n",
       "      <td>0</td>\n",
       "      <td>0</td>\n",
       "      <td>0</td>\n",
       "    </tr>\n",
       "    <tr>\n",
       "      <th>4</th>\n",
       "      <td>0</td>\n",
       "      <td>0</td>\n",
       "      <td>0</td>\n",
       "      <td>1</td>\n",
       "      <td>0</td>\n",
       "      <td>0</td>\n",
       "      <td>0</td>\n",
       "      <td>0</td>\n",
       "      <td>0</td>\n",
       "      <td>0</td>\n",
       "      <td>...</td>\n",
       "      <td>0</td>\n",
       "      <td>0</td>\n",
       "      <td>0</td>\n",
       "      <td>0</td>\n",
       "      <td>1</td>\n",
       "      <td>0</td>\n",
       "      <td>0</td>\n",
       "      <td>0</td>\n",
       "      <td>0</td>\n",
       "      <td>0</td>\n",
       "    </tr>\n",
       "  </tbody>\n",
       "</table>\n",
       "<p>5 rows × 40 columns</p>\n",
       "</div>"
      ],
      "text/plain": [
       "   Univ_CMU  Univ_CalTech  Univ_Columbia  Univ_Cornell  Univ_Dartmouth  \\\n",
       "0         0             0              0             0               0   \n",
       "1         0             1              0             0               0   \n",
       "2         1             0              0             0               0   \n",
       "3         0             0              1             0               0   \n",
       "4         0             0              0             1               0   \n",
       "\n",
       "   Univ_Duke  Univ_Georgetown  Univ_Harvard  Univ_JohnsHopkins  Univ_MIT  ...  \\\n",
       "0          0                0             0                  0         0  ...   \n",
       "1          0                0             0                  0         0  ...   \n",
       "2          0                0             0                  0         0  ...   \n",
       "3          0                0             0                  0         0  ...   \n",
       "4          0                0             0                  0         0  ...   \n",
       "\n",
       "   State_MI  State_NC  State_NH  State_NJ  State_NY  State_PA  State_RI  \\\n",
       "0         0         0         0         0         0         0         1   \n",
       "1         0         0         0         0         0         0         0   \n",
       "2         0         0         0         0         0         1         0   \n",
       "3         0         0         0         0         1         0         0   \n",
       "4         0         0         0         0         1         0         0   \n",
       "\n",
       "   State_TX  State_VA  State_WI  \n",
       "0         0         0         0  \n",
       "1         0         0         0  \n",
       "2         0         0         0  \n",
       "3         0         0         0  \n",
       "4         0         0         0  \n",
       "\n",
       "[5 rows x 40 columns]"
      ]
     },
     "execution_count": 47,
     "metadata": {},
     "output_type": "execute_result"
    }
   ],
   "source": [
    "df_cate = pd.get_dummies(df_cate,drop_first = True)\n",
    "df_cate.head()"
   ]
  },
  {
   "cell_type": "code",
   "execution_count": 48,
   "id": "a5a07487",
   "metadata": {},
   "outputs": [
    {
     "data": {
      "text/plain": [
       "(25, 40)"
      ]
     },
     "execution_count": 48,
     "metadata": {},
     "output_type": "execute_result"
    }
   ],
   "source": [
    "df_cate.shape"
   ]
  },
  {
   "cell_type": "code",
   "execution_count": 44,
   "id": "67ab6553",
   "metadata": {},
   "outputs": [
    {
     "data": {
      "text/html": [
       "<div>\n",
       "<style scoped>\n",
       "    .dataframe tbody tr th:only-of-type {\n",
       "        vertical-align: middle;\n",
       "    }\n",
       "\n",
       "    .dataframe tbody tr th {\n",
       "        vertical-align: top;\n",
       "    }\n",
       "\n",
       "    .dataframe thead th {\n",
       "        text-align: right;\n",
       "    }\n",
       "</style>\n",
       "<table border=\"1\" class=\"dataframe\">\n",
       "  <thead>\n",
       "    <tr style=\"text-align: right;\">\n",
       "      <th></th>\n",
       "      <th>SAT</th>\n",
       "      <th>Top10</th>\n",
       "      <th>Accept</th>\n",
       "      <th>SFRatio</th>\n",
       "      <th>Expenses</th>\n",
       "      <th>GradRate</th>\n",
       "    </tr>\n",
       "  </thead>\n",
       "  <tbody>\n",
       "    <tr>\n",
       "      <th>0</th>\n",
       "      <td>1310.0</td>\n",
       "      <td>89</td>\n",
       "      <td>22</td>\n",
       "      <td>13.0</td>\n",
       "      <td>22704</td>\n",
       "      <td>94.000000</td>\n",
       "    </tr>\n",
       "    <tr>\n",
       "      <th>1</th>\n",
       "      <td>1415.0</td>\n",
       "      <td>100</td>\n",
       "      <td>25</td>\n",
       "      <td>6.5</td>\n",
       "      <td>63575</td>\n",
       "      <td>81.000000</td>\n",
       "    </tr>\n",
       "    <tr>\n",
       "      <th>2</th>\n",
       "      <td>1260.0</td>\n",
       "      <td>62</td>\n",
       "      <td>59</td>\n",
       "      <td>9.0</td>\n",
       "      <td>25026</td>\n",
       "      <td>72.000000</td>\n",
       "    </tr>\n",
       "    <tr>\n",
       "      <th>3</th>\n",
       "      <td>1310.0</td>\n",
       "      <td>76</td>\n",
       "      <td>24</td>\n",
       "      <td>12.0</td>\n",
       "      <td>31510</td>\n",
       "      <td>86.666667</td>\n",
       "    </tr>\n",
       "    <tr>\n",
       "      <th>4</th>\n",
       "      <td>1280.0</td>\n",
       "      <td>83</td>\n",
       "      <td>33</td>\n",
       "      <td>13.0</td>\n",
       "      <td>21864</td>\n",
       "      <td>90.000000</td>\n",
       "    </tr>\n",
       "  </tbody>\n",
       "</table>\n",
       "</div>"
      ],
      "text/plain": [
       "      SAT  Top10  Accept  SFRatio  Expenses   GradRate\n",
       "0  1310.0     89      22     13.0     22704  94.000000\n",
       "1  1415.0    100      25      6.5     63575  81.000000\n",
       "2  1260.0     62      59      9.0     25026  72.000000\n",
       "3  1310.0     76      24     12.0     31510  86.666667\n",
       "4  1280.0     83      33     13.0     21864  90.000000"
      ]
     },
     "execution_count": 44,
     "metadata": {},
     "output_type": "execute_result"
    }
   ],
   "source": [
    "df_num = data.iloc[ : ,2: ]\n",
    "df_num.head()"
   ]
  },
  {
   "cell_type": "code",
   "execution_count": 45,
   "id": "bd1481ad",
   "metadata": {},
   "outputs": [
    {
     "data": {
      "text/plain": [
       "['SAT', 'Top10', 'Accept', 'SFRatio', 'Expenses', 'GradRate']"
      ]
     },
     "execution_count": 45,
     "metadata": {},
     "output_type": "execute_result"
    }
   ],
   "source": [
    "col =list(df_num.columns)\n",
    "col"
   ]
  },
  {
   "cell_type": "code",
   "execution_count": null,
   "id": "caf83f82",
   "metadata": {},
   "outputs": [],
   "source": [
    "# check data is normally distributed or not using probplot"
   ]
  },
  {
   "cell_type": "code",
   "execution_count": 49,
   "id": "11a80baa",
   "metadata": {},
   "outputs": [],
   "source": [
    "import scipy.stats as stats\n",
    "import pylab"
   ]
  },
  {
   "cell_type": "code",
   "execution_count": 51,
   "id": "d4f652d3",
   "metadata": {},
   "outputs": [
    {
     "data": {
      "text/plain": [
       "((array([-1.9213301 , -1.50368257, -1.24941883, -1.0573306 , -0.897955  ,\n",
       "         -0.75865603, -0.63273432, -0.51614096, -0.40618759, -0.30094875,\n",
       "         -0.19894932, -0.09898372,  0.        ,  0.09898372,  0.19894932,\n",
       "          0.30094875,  0.40618759,  0.51614096,  0.63273432,  0.75865603,\n",
       "          0.897955  ,  1.0573306 ,  1.24941883,  1.50368257,  1.9213301 ]),\n",
       "  array([1090.        , 1090.        , 1090.        , 1090.        ,\n",
       "         1180.        , 1225.        , 1240.        , 1255.        ,\n",
       "         1260.        , 1260.        , 1266.91666667, 1280.        ,\n",
       "         1285.        , 1290.        , 1305.        , 1310.        ,\n",
       "         1310.        , 1315.        , 1340.        , 1360.        ,\n",
       "         1375.        , 1375.        , 1380.        , 1400.        ,\n",
       "         1415.        ])),\n",
       " (98.76659036154764, 1271.4766666666667, 0.9585447047103507))"
      ]
     },
     "execution_count": 51,
     "metadata": {},
     "output_type": "execute_result"
    },
    {
     "data": {
      "image/png": "[encoded data removed]",
      "text/plain": [
       "<Figure size 640x480 with 1 Axes>"
      ]
     },
     "metadata": {},
     "output_type": "display_data"
    }
   ],
   "source": [
    "# SAT\n",
    "stats.probplot(df_num['SAT'],dist = 'norm',plot = pylab)"
   ]
  },
  {
   "cell_type": "code",
   "execution_count": 52,
   "id": "db81cf49",
   "metadata": {},
   "outputs": [
    {
     "data": {
      "text/plain": [
       "((array([-1.9213301 , -1.50368257, -1.24941883, -1.0573306 , -0.897955  ,\n",
       "         -0.75865603, -0.63273432, -0.51614096, -0.40618759, -0.30094875,\n",
       "         -0.19894932, -0.09898372,  0.        ,  0.09898372,  0.19894932,\n",
       "          0.30094875,  0.40618759,  0.51614096,  0.63273432,  0.75865603,\n",
       "          0.897955  ,  1.0573306 ,  1.24941883,  1.50368257,  1.9213301 ]),\n",
       "  array([ 50,  50,  50,  50,  62,  65,  74,  75,  75,  76,  77,  80,  81,\n",
       "          83,  85,  89,  89,  90,  90,  91,  91,  94,  95,  95, 100],\n",
       "        dtype=int64)),\n",
       " (15.548174662321602, 78.28, 0.9511295549439862))"
      ]
     },
     "execution_count": 52,
     "metadata": {},
     "output_type": "execute_result"
    },
    {
     "data": {
      "image/png": "[encoded data removed]",
      "text/plain": [
       "<Figure size 640x480 with 1 Axes>"
      ]
     },
     "metadata": {},
     "output_type": "display_data"
    }
   ],
   "source": [
    "# Top10\n",
    "stats.probplot(df_num['Top10'],dist = 'norm',plot = pylab)"
   ]
  },
  {
   "cell_type": "code",
   "execution_count": 53,
   "id": "8183481b",
   "metadata": {},
   "outputs": [
    {
     "data": {
      "text/plain": [
       "((array([-1.9213301 , -1.50368257, -1.24941883, -1.0573306 , -0.897955  ,\n",
       "         -0.75865603, -0.63273432, -0.51614096, -0.40618759, -0.30094875,\n",
       "         -0.19894932, -0.09898372,  0.        ,  0.09898372,  0.19894932,\n",
       "          0.30094875,  0.40618759,  0.51614096,  0.63273432,  0.75865603,\n",
       "          0.897955  ,  1.0573306 ,  1.24941883,  1.50368257,  1.9213301 ]),\n",
       "  array([14, 14, 19, 20, 22, 23, 24, 24, 25, 30, 30, 33, 36, 39, 40, 42, 44,\n",
       "         44, 50, 54, 59, 67, 68, 69, 89], dtype=int64)),\n",
       " (19.806179416701234, 39.16, 0.9658230149511989))"
      ]
     },
     "execution_count": 53,
     "metadata": {},
     "output_type": "execute_result"
    },
    {
     "data": {
      "image/png": "[encoded data removed]",
      "text/plain": [
       "<Figure size 640x480 with 1 Axes>"
      ]
     },
     "metadata": {},
     "output_type": "display_data"
    }
   ],
   "source": [
    "# Accept\n",
    "stats.probplot(df_num['Accept'],dist = 'norm',plot = pylab)"
   ]
  },
  {
   "cell_type": "code",
   "execution_count": 54,
   "id": "6d8d0091",
   "metadata": {},
   "outputs": [
    {
     "data": {
      "text/plain": [
       "((array([-1.9213301 , -1.50368257, -1.24941883, -1.0573306 , -0.897955  ,\n",
       "         -0.75865603, -0.63273432, -0.51614096, -0.40618759, -0.30094875,\n",
       "         -0.19894932, -0.09898372,  0.        ,  0.09898372,  0.19894932,\n",
       "          0.30094875,  0.40618759,  0.51614096,  0.63273432,  0.75865603,\n",
       "          0.897955  ,  1.0573306 ,  1.24941883,  1.50368257,  1.9213301 ]),\n",
       "  array([ 6.5,  7. ,  8. ,  9. , 10. , 10. , 11. , 11. , 11. , 11. , 12. ,\n",
       "         12. , 12. , 12. , 12. , 13. , 13. , 13. , 14. , 15. , 16. , 17. ,\n",
       "         18. , 18.5, 18.5])),\n",
       " (3.4058243652179456, 12.42, 0.9800284234738135))"
      ]
     },
     "execution_count": 54,
     "metadata": {},
     "output_type": "execute_result"
    },
    {
     "data": {
      "image/png": "[encoded data removed]",
      "text/plain": [
       "<Figure size 640x480 with 1 Axes>"
      ]
     },
     "metadata": {},
     "output_type": "display_data"
    }
   ],
   "source": [
    "# SFRatio\n",
    "stats.probplot(df_num['SFRatio'],dist = 'norm',plot = pylab)"
   ]
  },
  {
   "cell_type": "code",
   "execution_count": 56,
   "id": "99170b71",
   "metadata": {},
   "outputs": [
    {
     "data": {
      "text/plain": [
       "((array([-1.9213301 , -1.50368257, -1.24941883, -1.0573306 , -0.897955  ,\n",
       "         -0.75865603, -0.63273432, -0.51614096, -0.40618759, -0.30094875,\n",
       "         -0.19894932, -0.09898372,  0.        ,  0.09898372,  0.19894932,\n",
       "          0.30094875,  0.40618759,  0.51614096,  0.63273432,  0.75865603,\n",
       "          0.897955  ,  1.0573306 ,  1.24941883,  1.50368257,  1.9213301 ]),\n",
       "  array([ 8704,  9066, 10185, 11857, 13349, 15122, 15140, 15470, 20126,\n",
       "         21864, 22704, 25026, 27553, 28052, 30220, 31510, 31585, 32162,\n",
       "         34870, 36450, 38380, 39525, 43514, 58691, 63575], dtype=int64)),\n",
       " (14567.431669324984, 27387.999999999996, 0.96623519023699))"
      ]
     },
     "execution_count": 56,
     "metadata": {},
     "output_type": "execute_result"
    },
    {
     "data": {
      "image/png": "[encoded data removed]",
      "text/plain": [
       "<Figure size 640x480 with 1 Axes>"
      ]
     },
     "metadata": {},
     "output_type": "display_data"
    }
   ],
   "source": [
    "#Expenses\n",
    "stats.probplot(df_num['Expenses'],dist = 'norm',plot = pylab)"
   ]
  },
  {
   "cell_type": "code",
   "execution_count": 57,
   "id": "93ebb5b3",
   "metadata": {},
   "outputs": [
    {
     "data": {
      "text/plain": [
       "((array([-1.9213301 , -1.50368257, -1.24941883, -1.0573306 , -0.897955  ,\n",
       "         -0.75865603, -0.63273432, -0.51614096, -0.40618759, -0.30094875,\n",
       "         -0.19894932, -0.09898372,  0.        ,  0.09898372,  0.19894932,\n",
       "          0.30094875,  0.40618759,  0.51614096,  0.63273432,  0.75865603,\n",
       "          0.897955  ,  1.0573306 ,  1.24941883,  1.50368257,  1.9213301 ]),\n",
       "  array([67.        , 69.        , 71.        , 72.        , 78.        ,\n",
       "         80.        , 81.        , 85.        , 86.66666667, 87.        ,\n",
       "         87.        , 89.        , 90.        , 90.        , 91.        ,\n",
       "         92.        , 92.        , 93.        , 94.        , 94.        ,\n",
       "         95.        , 95.        , 95.        , 96.        , 97.        ])),\n",
       " (8.891600322496434, 86.66666666666669, 0.9396340444989573))"
      ]
     },
     "execution_count": 57,
     "metadata": {},
     "output_type": "execute_result"
    },
    {
     "data": {
      "image/png": "[encoded data removed]",
      "text/plain": [
       "<Figure size 640x480 with 1 Axes>"
      ]
     },
     "metadata": {},
     "output_type": "display_data"
    }
   ],
   "source": [
    "# GradRate\n",
    "stats.probplot(df_num['GradRate'],dist = 'norm',plot = pylab)"
   ]
  },
  {
   "cell_type": "markdown",
   "id": "7762ac51",
   "metadata": {},
   "source": [
    "data is normally distributed"
   ]
  },
  {
   "cell_type": "code",
   "execution_count": null,
   "id": "d968d300",
   "metadata": {},
   "outputs": [],
   "source": [
    "# use MinMaxScaler to normalized the data."
   ]
  },
  {
   "cell_type": "code",
   "execution_count": 58,
   "id": "26175178",
   "metadata": {},
   "outputs": [],
   "source": [
    "from sklearn.preprocessing import MinMaxScaler"
   ]
  },
  {
   "cell_type": "code",
   "execution_count": 59,
   "id": "258c2609",
   "metadata": {},
   "outputs": [],
   "source": [
    "scaler = MinMaxScaler()"
   ]
  },
  {
   "cell_type": "code",
   "execution_count": 60,
   "id": "ca38ba39",
   "metadata": {},
   "outputs": [],
   "source": [
    "df_num = pd.DataFrame(scaler.fit_transform(df_num),columns = col, index = df_num.index)"
   ]
  },
  {
   "cell_type": "code",
   "execution_count": 62,
   "id": "d41a896f",
   "metadata": {},
   "outputs": [
    {
     "data": {
      "text/html": [
       "<div>\n",
       "<style scoped>\n",
       "    .dataframe tbody tr th:only-of-type {\n",
       "        vertical-align: middle;\n",
       "    }\n",
       "\n",
       "    .dataframe tbody tr th {\n",
       "        vertical-align: top;\n",
       "    }\n",
       "\n",
       "    .dataframe thead th {\n",
       "        text-align: right;\n",
       "    }\n",
       "</style>\n",
       "<table border=\"1\" class=\"dataframe\">\n",
       "  <thead>\n",
       "    <tr style=\"text-align: right;\">\n",
       "      <th></th>\n",
       "      <th>SAT</th>\n",
       "      <th>Top10</th>\n",
       "      <th>Accept</th>\n",
       "      <th>SFRatio</th>\n",
       "      <th>Expenses</th>\n",
       "      <th>GradRate</th>\n",
       "    </tr>\n",
       "  </thead>\n",
       "  <tbody>\n",
       "    <tr>\n",
       "      <th>0</th>\n",
       "      <td>0.676923</td>\n",
       "      <td>0.78</td>\n",
       "      <td>0.106667</td>\n",
       "      <td>0.541667</td>\n",
       "      <td>0.255144</td>\n",
       "      <td>0.900000</td>\n",
       "    </tr>\n",
       "    <tr>\n",
       "      <th>1</th>\n",
       "      <td>1.000000</td>\n",
       "      <td>1.00</td>\n",
       "      <td>0.146667</td>\n",
       "      <td>0.000000</td>\n",
       "      <td>1.000000</td>\n",
       "      <td>0.466667</td>\n",
       "    </tr>\n",
       "    <tr>\n",
       "      <th>2</th>\n",
       "      <td>0.523077</td>\n",
       "      <td>0.24</td>\n",
       "      <td>0.600000</td>\n",
       "      <td>0.208333</td>\n",
       "      <td>0.297461</td>\n",
       "      <td>0.166667</td>\n",
       "    </tr>\n",
       "    <tr>\n",
       "      <th>3</th>\n",
       "      <td>0.676923</td>\n",
       "      <td>0.52</td>\n",
       "      <td>0.133333</td>\n",
       "      <td>0.458333</td>\n",
       "      <td>0.415629</td>\n",
       "      <td>0.655556</td>\n",
       "    </tr>\n",
       "    <tr>\n",
       "      <th>4</th>\n",
       "      <td>0.584615</td>\n",
       "      <td>0.66</td>\n",
       "      <td>0.253333</td>\n",
       "      <td>0.541667</td>\n",
       "      <td>0.239835</td>\n",
       "      <td>0.766667</td>\n",
       "    </tr>\n",
       "  </tbody>\n",
       "</table>\n",
       "</div>"
      ],
      "text/plain": [
       "        SAT  Top10    Accept   SFRatio  Expenses  GradRate\n",
       "0  0.676923   0.78  0.106667  0.541667  0.255144  0.900000\n",
       "1  1.000000   1.00  0.146667  0.000000  1.000000  0.466667\n",
       "2  0.523077   0.24  0.600000  0.208333  0.297461  0.166667\n",
       "3  0.676923   0.52  0.133333  0.458333  0.415629  0.655556\n",
       "4  0.584615   0.66  0.253333  0.541667  0.239835  0.766667"
      ]
     },
     "execution_count": 62,
     "metadata": {},
     "output_type": "execute_result"
    }
   ],
   "source": [
    "df_num.head()"
   ]
  },
  {
   "cell_type": "code",
   "execution_count": 63,
   "id": "62a8c57f",
   "metadata": {},
   "outputs": [],
   "source": [
    "df = pd.concat([df_cate,df_num],axis = 1)"
   ]
  },
  {
   "cell_type": "code",
   "execution_count": 65,
   "id": "82f04eec",
   "metadata": {},
   "outputs": [
    {
     "data": {
      "text/html": [
       "<div>\n",
       "<style scoped>\n",
       "    .dataframe tbody tr th:only-of-type {\n",
       "        vertical-align: middle;\n",
       "    }\n",
       "\n",
       "    .dataframe tbody tr th {\n",
       "        vertical-align: top;\n",
       "    }\n",
       "\n",
       "    .dataframe thead th {\n",
       "        text-align: right;\n",
       "    }\n",
       "</style>\n",
       "<table border=\"1\" class=\"dataframe\">\n",
       "  <thead>\n",
       "    <tr style=\"text-align: right;\">\n",
       "      <th></th>\n",
       "      <th>Univ_CMU</th>\n",
       "      <th>Univ_CalTech</th>\n",
       "      <th>Univ_Columbia</th>\n",
       "      <th>Univ_Cornell</th>\n",
       "      <th>Univ_Dartmouth</th>\n",
       "      <th>Univ_Duke</th>\n",
       "      <th>Univ_Georgetown</th>\n",
       "      <th>Univ_Harvard</th>\n",
       "      <th>Univ_JohnsHopkins</th>\n",
       "      <th>Univ_MIT</th>\n",
       "      <th>...</th>\n",
       "      <th>State_RI</th>\n",
       "      <th>State_TX</th>\n",
       "      <th>State_VA</th>\n",
       "      <th>State_WI</th>\n",
       "      <th>SAT</th>\n",
       "      <th>Top10</th>\n",
       "      <th>Accept</th>\n",
       "      <th>SFRatio</th>\n",
       "      <th>Expenses</th>\n",
       "      <th>GradRate</th>\n",
       "    </tr>\n",
       "  </thead>\n",
       "  <tbody>\n",
       "    <tr>\n",
       "      <th>0</th>\n",
       "      <td>0</td>\n",
       "      <td>0</td>\n",
       "      <td>0</td>\n",
       "      <td>0</td>\n",
       "      <td>0</td>\n",
       "      <td>0</td>\n",
       "      <td>0</td>\n",
       "      <td>0</td>\n",
       "      <td>0</td>\n",
       "      <td>0</td>\n",
       "      <td>...</td>\n",
       "      <td>1</td>\n",
       "      <td>0</td>\n",
       "      <td>0</td>\n",
       "      <td>0</td>\n",
       "      <td>0.676923</td>\n",
       "      <td>0.78</td>\n",
       "      <td>0.106667</td>\n",
       "      <td>0.541667</td>\n",
       "      <td>0.255144</td>\n",
       "      <td>0.900000</td>\n",
       "    </tr>\n",
       "    <tr>\n",
       "      <th>1</th>\n",
       "      <td>0</td>\n",
       "      <td>1</td>\n",
       "      <td>0</td>\n",
       "      <td>0</td>\n",
       "      <td>0</td>\n",
       "      <td>0</td>\n",
       "      <td>0</td>\n",
       "      <td>0</td>\n",
       "      <td>0</td>\n",
       "      <td>0</td>\n",
       "      <td>...</td>\n",
       "      <td>0</td>\n",
       "      <td>0</td>\n",
       "      <td>0</td>\n",
       "      <td>0</td>\n",
       "      <td>1.000000</td>\n",
       "      <td>1.00</td>\n",
       "      <td>0.146667</td>\n",
       "      <td>0.000000</td>\n",
       "      <td>1.000000</td>\n",
       "      <td>0.466667</td>\n",
       "    </tr>\n",
       "    <tr>\n",
       "      <th>2</th>\n",
       "      <td>1</td>\n",
       "      <td>0</td>\n",
       "      <td>0</td>\n",
       "      <td>0</td>\n",
       "      <td>0</td>\n",
       "      <td>0</td>\n",
       "      <td>0</td>\n",
       "      <td>0</td>\n",
       "      <td>0</td>\n",
       "      <td>0</td>\n",
       "      <td>...</td>\n",
       "      <td>0</td>\n",
       "      <td>0</td>\n",
       "      <td>0</td>\n",
       "      <td>0</td>\n",
       "      <td>0.523077</td>\n",
       "      <td>0.24</td>\n",
       "      <td>0.600000</td>\n",
       "      <td>0.208333</td>\n",
       "      <td>0.297461</td>\n",
       "      <td>0.166667</td>\n",
       "    </tr>\n",
       "    <tr>\n",
       "      <th>3</th>\n",
       "      <td>0</td>\n",
       "      <td>0</td>\n",
       "      <td>1</td>\n",
       "      <td>0</td>\n",
       "      <td>0</td>\n",
       "      <td>0</td>\n",
       "      <td>0</td>\n",
       "      <td>0</td>\n",
       "      <td>0</td>\n",
       "      <td>0</td>\n",
       "      <td>...</td>\n",
       "      <td>0</td>\n",
       "      <td>0</td>\n",
       "      <td>0</td>\n",
       "      <td>0</td>\n",
       "      <td>0.676923</td>\n",
       "      <td>0.52</td>\n",
       "      <td>0.133333</td>\n",
       "      <td>0.458333</td>\n",
       "      <td>0.415629</td>\n",
       "      <td>0.655556</td>\n",
       "    </tr>\n",
       "    <tr>\n",
       "      <th>4</th>\n",
       "      <td>0</td>\n",
       "      <td>0</td>\n",
       "      <td>0</td>\n",
       "      <td>1</td>\n",
       "      <td>0</td>\n",
       "      <td>0</td>\n",
       "      <td>0</td>\n",
       "      <td>0</td>\n",
       "      <td>0</td>\n",
       "      <td>0</td>\n",
       "      <td>...</td>\n",
       "      <td>0</td>\n",
       "      <td>0</td>\n",
       "      <td>0</td>\n",
       "      <td>0</td>\n",
       "      <td>0.584615</td>\n",
       "      <td>0.66</td>\n",
       "      <td>0.253333</td>\n",
       "      <td>0.541667</td>\n",
       "      <td>0.239835</td>\n",
       "      <td>0.766667</td>\n",
       "    </tr>\n",
       "  </tbody>\n",
       "</table>\n",
       "<p>5 rows × 46 columns</p>\n",
       "</div>"
      ],
      "text/plain": [
       "   Univ_CMU  Univ_CalTech  Univ_Columbia  Univ_Cornell  Univ_Dartmouth  \\\n",
       "0         0             0              0             0               0   \n",
       "1         0             1              0             0               0   \n",
       "2         1             0              0             0               0   \n",
       "3         0             0              1             0               0   \n",
       "4         0             0              0             1               0   \n",
       "\n",
       "   Univ_Duke  Univ_Georgetown  Univ_Harvard  Univ_JohnsHopkins  Univ_MIT  ...  \\\n",
       "0          0                0             0                  0         0  ...   \n",
       "1          0                0             0                  0         0  ...   \n",
       "2          0                0             0                  0         0  ...   \n",
       "3          0                0             0                  0         0  ...   \n",
       "4          0                0             0                  0         0  ...   \n",
       "\n",
       "   State_RI  State_TX  State_VA  State_WI       SAT  Top10    Accept  \\\n",
       "0         1         0         0         0  0.676923   0.78  0.106667   \n",
       "1         0         0         0         0  1.000000   1.00  0.146667   \n",
       "2         0         0         0         0  0.523077   0.24  0.600000   \n",
       "3         0         0         0         0  0.676923   0.52  0.133333   \n",
       "4         0         0         0         0  0.584615   0.66  0.253333   \n",
       "\n",
       "    SFRatio  Expenses  GradRate  \n",
       "0  0.541667  0.255144  0.900000  \n",
       "1  0.000000  1.000000  0.466667  \n",
       "2  0.208333  0.297461  0.166667  \n",
       "3  0.458333  0.415629  0.655556  \n",
       "4  0.541667  0.239835  0.766667  \n",
       "\n",
       "[5 rows x 46 columns]"
      ]
     },
     "execution_count": 65,
     "metadata": {},
     "output_type": "execute_result"
    }
   ],
   "source": [
    "df.head()"
   ]
  },
  {
   "cell_type": "code",
   "execution_count": 66,
   "id": "29574edf",
   "metadata": {},
   "outputs": [
    {
     "data": {
      "text/html": [
       "<div>\n",
       "<style scoped>\n",
       "    .dataframe tbody tr th:only-of-type {\n",
       "        vertical-align: middle;\n",
       "    }\n",
       "\n",
       "    .dataframe tbody tr th {\n",
       "        vertical-align: top;\n",
       "    }\n",
       "\n",
       "    .dataframe thead th {\n",
       "        text-align: right;\n",
       "    }\n",
       "</style>\n",
       "<table border=\"1\" class=\"dataframe\">\n",
       "  <thead>\n",
       "    <tr style=\"text-align: right;\">\n",
       "      <th></th>\n",
       "      <th>Univ_CMU</th>\n",
       "      <th>Univ_CalTech</th>\n",
       "      <th>Univ_Columbia</th>\n",
       "      <th>Univ_Cornell</th>\n",
       "      <th>Univ_Dartmouth</th>\n",
       "      <th>Univ_Duke</th>\n",
       "      <th>Univ_Georgetown</th>\n",
       "      <th>Univ_Harvard</th>\n",
       "      <th>Univ_JohnsHopkins</th>\n",
       "      <th>Univ_MIT</th>\n",
       "      <th>...</th>\n",
       "      <th>State_RI</th>\n",
       "      <th>State_TX</th>\n",
       "      <th>State_VA</th>\n",
       "      <th>State_WI</th>\n",
       "      <th>SAT</th>\n",
       "      <th>Top10</th>\n",
       "      <th>Accept</th>\n",
       "      <th>SFRatio</th>\n",
       "      <th>Expenses</th>\n",
       "      <th>GradRate</th>\n",
       "    </tr>\n",
       "  </thead>\n",
       "  <tbody>\n",
       "    <tr>\n",
       "      <th>count</th>\n",
       "      <td>25.00</td>\n",
       "      <td>25.00</td>\n",
       "      <td>25.00</td>\n",
       "      <td>25.00</td>\n",
       "      <td>25.00</td>\n",
       "      <td>25.00</td>\n",
       "      <td>25.00</td>\n",
       "      <td>25.00</td>\n",
       "      <td>25.00</td>\n",
       "      <td>25.00</td>\n",
       "      <td>...</td>\n",
       "      <td>25.00</td>\n",
       "      <td>25.00</td>\n",
       "      <td>25.00</td>\n",
       "      <td>25.00</td>\n",
       "      <td>25.000000</td>\n",
       "      <td>25.000000</td>\n",
       "      <td>25.000000</td>\n",
       "      <td>25.000000</td>\n",
       "      <td>25.000000</td>\n",
       "      <td>25.000000</td>\n",
       "    </tr>\n",
       "    <tr>\n",
       "      <th>mean</th>\n",
       "      <td>0.04</td>\n",
       "      <td>0.04</td>\n",
       "      <td>0.04</td>\n",
       "      <td>0.04</td>\n",
       "      <td>0.04</td>\n",
       "      <td>0.04</td>\n",
       "      <td>0.04</td>\n",
       "      <td>0.04</td>\n",
       "      <td>0.04</td>\n",
       "      <td>0.04</td>\n",
       "      <td>...</td>\n",
       "      <td>0.04</td>\n",
       "      <td>0.04</td>\n",
       "      <td>0.04</td>\n",
       "      <td>0.04</td>\n",
       "      <td>0.558390</td>\n",
       "      <td>0.565600</td>\n",
       "      <td>0.335467</td>\n",
       "      <td>0.493333</td>\n",
       "      <td>0.340508</td>\n",
       "      <td>0.655556</td>\n",
       "    </tr>\n",
       "    <tr>\n",
       "      <th>std</th>\n",
       "      <td>0.20</td>\n",
       "      <td>0.20</td>\n",
       "      <td>0.20</td>\n",
       "      <td>0.20</td>\n",
       "      <td>0.20</td>\n",
       "      <td>0.20</td>\n",
       "      <td>0.20</td>\n",
       "      <td>0.20</td>\n",
       "      <td>0.20</td>\n",
       "      <td>0.20</td>\n",
       "      <td>...</td>\n",
       "      <td>0.20</td>\n",
       "      <td>0.20</td>\n",
       "      <td>0.20</td>\n",
       "      <td>0.20</td>\n",
       "      <td>0.303338</td>\n",
       "      <td>0.312811</td>\n",
       "      <td>0.261610</td>\n",
       "      <td>0.277086</td>\n",
       "      <td>0.262887</td>\n",
       "      <td>0.301795</td>\n",
       "    </tr>\n",
       "    <tr>\n",
       "      <th>min</th>\n",
       "      <td>0.00</td>\n",
       "      <td>0.00</td>\n",
       "      <td>0.00</td>\n",
       "      <td>0.00</td>\n",
       "      <td>0.00</td>\n",
       "      <td>0.00</td>\n",
       "      <td>0.00</td>\n",
       "      <td>0.00</td>\n",
       "      <td>0.00</td>\n",
       "      <td>0.00</td>\n",
       "      <td>...</td>\n",
       "      <td>0.00</td>\n",
       "      <td>0.00</td>\n",
       "      <td>0.00</td>\n",
       "      <td>0.00</td>\n",
       "      <td>0.000000</td>\n",
       "      <td>0.000000</td>\n",
       "      <td>0.000000</td>\n",
       "      <td>0.000000</td>\n",
       "      <td>0.000000</td>\n",
       "      <td>0.000000</td>\n",
       "    </tr>\n",
       "    <tr>\n",
       "      <th>25%</th>\n",
       "      <td>0.00</td>\n",
       "      <td>0.00</td>\n",
       "      <td>0.00</td>\n",
       "      <td>0.00</td>\n",
       "      <td>0.00</td>\n",
       "      <td>0.00</td>\n",
       "      <td>0.00</td>\n",
       "      <td>0.00</td>\n",
       "      <td>0.00</td>\n",
       "      <td>0.00</td>\n",
       "      <td>...</td>\n",
       "      <td>0.00</td>\n",
       "      <td>0.00</td>\n",
       "      <td>0.00</td>\n",
       "      <td>0.00</td>\n",
       "      <td>0.461538</td>\n",
       "      <td>0.480000</td>\n",
       "      <td>0.133333</td>\n",
       "      <td>0.375000</td>\n",
       "      <td>0.117293</td>\n",
       "      <td>0.466667</td>\n",
       "    </tr>\n",
       "    <tr>\n",
       "      <th>50%</th>\n",
       "      <td>0.00</td>\n",
       "      <td>0.00</td>\n",
       "      <td>0.00</td>\n",
       "      <td>0.00</td>\n",
       "      <td>0.00</td>\n",
       "      <td>0.00</td>\n",
       "      <td>0.00</td>\n",
       "      <td>0.00</td>\n",
       "      <td>0.00</td>\n",
       "      <td>0.00</td>\n",
       "      <td>...</td>\n",
       "      <td>0.00</td>\n",
       "      <td>0.00</td>\n",
       "      <td>0.00</td>\n",
       "      <td>0.00</td>\n",
       "      <td>0.600000</td>\n",
       "      <td>0.620000</td>\n",
       "      <td>0.293333</td>\n",
       "      <td>0.458333</td>\n",
       "      <td>0.343515</td>\n",
       "      <td>0.766667</td>\n",
       "    </tr>\n",
       "    <tr>\n",
       "      <th>75%</th>\n",
       "      <td>0.00</td>\n",
       "      <td>0.00</td>\n",
       "      <td>0.00</td>\n",
       "      <td>0.00</td>\n",
       "      <td>0.00</td>\n",
       "      <td>0.00</td>\n",
       "      <td>0.00</td>\n",
       "      <td>0.00</td>\n",
       "      <td>0.00</td>\n",
       "      <td>0.00</td>\n",
       "      <td>...</td>\n",
       "      <td>0.00</td>\n",
       "      <td>0.00</td>\n",
       "      <td>0.00</td>\n",
       "      <td>0.00</td>\n",
       "      <td>0.769231</td>\n",
       "      <td>0.800000</td>\n",
       "      <td>0.480000</td>\n",
       "      <td>0.625000</td>\n",
       "      <td>0.476864</td>\n",
       "      <td>0.900000</td>\n",
       "    </tr>\n",
       "    <tr>\n",
       "      <th>max</th>\n",
       "      <td>1.00</td>\n",
       "      <td>1.00</td>\n",
       "      <td>1.00</td>\n",
       "      <td>1.00</td>\n",
       "      <td>1.00</td>\n",
       "      <td>1.00</td>\n",
       "      <td>1.00</td>\n",
       "      <td>1.00</td>\n",
       "      <td>1.00</td>\n",
       "      <td>1.00</td>\n",
       "      <td>...</td>\n",
       "      <td>1.00</td>\n",
       "      <td>1.00</td>\n",
       "      <td>1.00</td>\n",
       "      <td>1.00</td>\n",
       "      <td>1.000000</td>\n",
       "      <td>1.000000</td>\n",
       "      <td>1.000000</td>\n",
       "      <td>1.000000</td>\n",
       "      <td>1.000000</td>\n",
       "      <td>1.000000</td>\n",
       "    </tr>\n",
       "  </tbody>\n",
       "</table>\n",
       "<p>8 rows × 46 columns</p>\n",
       "</div>"
      ],
      "text/plain": [
       "       Univ_CMU  Univ_CalTech  Univ_Columbia  Univ_Cornell  Univ_Dartmouth  \\\n",
       "count     25.00         25.00          25.00         25.00           25.00   \n",
       "mean       0.04          0.04           0.04          0.04            0.04   \n",
       "std        0.20          0.20           0.20          0.20            0.20   \n",
       "min        0.00          0.00           0.00          0.00            0.00   \n",
       "25%        0.00          0.00           0.00          0.00            0.00   \n",
       "50%        0.00          0.00           0.00          0.00            0.00   \n",
       "75%        0.00          0.00           0.00          0.00            0.00   \n",
       "max        1.00          1.00           1.00          1.00            1.00   \n",
       "\n",
       "       Univ_Duke  Univ_Georgetown  Univ_Harvard  Univ_JohnsHopkins  Univ_MIT  \\\n",
       "count      25.00            25.00         25.00              25.00     25.00   \n",
       "mean        0.04             0.04          0.04               0.04      0.04   \n",
       "std         0.20             0.20          0.20               0.20      0.20   \n",
       "min         0.00             0.00          0.00               0.00      0.00   \n",
       "25%         0.00             0.00          0.00               0.00      0.00   \n",
       "50%         0.00             0.00          0.00               0.00      0.00   \n",
       "75%         0.00             0.00          0.00               0.00      0.00   \n",
       "max         1.00             1.00          1.00               1.00      1.00   \n",
       "\n",
       "       ...  State_RI  State_TX  State_VA  State_WI        SAT      Top10  \\\n",
       "count  ...     25.00     25.00     25.00     25.00  25.000000  25.000000   \n",
       "mean   ...      0.04      0.04      0.04      0.04   0.558390   0.565600   \n",
       "std    ...      0.20      0.20      0.20      0.20   0.303338   0.312811   \n",
       "min    ...      0.00      0.00      0.00      0.00   0.000000   0.000000   \n",
       "25%    ...      0.00      0.00      0.00      0.00   0.461538   0.480000   \n",
       "50%    ...      0.00      0.00      0.00      0.00   0.600000   0.620000   \n",
       "75%    ...      0.00      0.00      0.00      0.00   0.769231   0.800000   \n",
       "max    ...      1.00      1.00      1.00      1.00   1.000000   1.000000   \n",
       "\n",
       "          Accept    SFRatio   Expenses   GradRate  \n",
       "count  25.000000  25.000000  25.000000  25.000000  \n",
       "mean    0.335467   0.493333   0.340508   0.655556  \n",
       "std     0.261610   0.277086   0.262887   0.301795  \n",
       "min     0.000000   0.000000   0.000000   0.000000  \n",
       "25%     0.133333   0.375000   0.117293   0.466667  \n",
       "50%     0.293333   0.458333   0.343515   0.766667  \n",
       "75%     0.480000   0.625000   0.476864   0.900000  \n",
       "max     1.000000   1.000000   1.000000   1.000000  \n",
       "\n",
       "[8 rows x 46 columns]"
      ]
     },
     "execution_count": 66,
     "metadata": {},
     "output_type": "execute_result"
    }
   ],
   "source": [
    "df.describe()"
   ]
  },
  {
   "cell_type": "code",
   "execution_count": null,
   "id": "51c735e3",
   "metadata": {},
   "outputs": [],
   "source": [
    "# Model Building Using KMeans clustering"
   ]
  },
  {
   "cell_type": "code",
   "execution_count": 67,
   "id": "742cb0f0",
   "metadata": {},
   "outputs": [],
   "source": [
    "from sklearn.cluster import KMeans"
   ]
  },
  {
   "cell_type": "markdown",
   "id": "b357b046",
   "metadata": {},
   "source": [
    "# scree plot/elbow curve"
   ]
  },
  {
   "cell_type": "code",
   "execution_count": 79,
   "id": "31dc6279",
   "metadata": {},
   "outputs": [
    {
     "data": {
      "text/plain": [
       "[46.534909743474024,\n",
       " 43.269574847363714,\n",
       " 39.724081537396074,\n",
       " 37.37444493264967,\n",
       " 34.681828175059415,\n",
       " 31.645493992959327,\n",
       " 29.05330992053674]"
      ]
     },
     "execution_count": 79,
     "metadata": {},
     "output_type": "execute_result"
    }
   ],
   "source": [
    "TWSS = []\n",
    "k = list(range(2,9))\n",
    "\n",
    "for i in k:\n",
    "    kmeans = KMeans(n_clusters = i)\n",
    "    kmeans.fit(df)\n",
    "    TWSS.append(kmeans.inertia_)\n",
    "\n",
    "TWSS   "
   ]
  },
  {
   "cell_type": "code",
   "execution_count": 76,
   "id": "e8e13235",
   "metadata": {},
   "outputs": [
    {
     "data": {
      "image/png": "[encoded data removed]",
      "text/plain": [
       "<Figure size 640x480 with 1 Axes>"
      ]
     },
     "metadata": {},
     "output_type": "display_data"
    }
   ],
   "source": [
    "# scree plot/elbow curve\n",
    "\n",
    "plt.plot(k,TWSS,'ro-');\n",
    "plt.xlabel('Clusters');\n",
    "plt.ylabel('TWSS');"
   ]
  },
  {
   "cell_type": "code",
   "execution_count": null,
   "id": "3eec830d",
   "metadata": {},
   "outputs": [],
   "source": [
    "# KneeLocator"
   ]
  },
  {
   "cell_type": "code",
   "execution_count": 89,
   "id": "ca0badd3",
   "metadata": {},
   "outputs": [
    {
     "data": {
      "image/png": "[encoded data removed]",
      "text/plain": [
       "<Figure size 800x550 with 1 Axes>"
      ]
     },
     "metadata": {},
     "output_type": "display_data"
    }
   ],
   "source": [
    "List = []\n",
    "\n",
    "for k in range(2,9):\n",
    "    kmeans = KMeans(n_clusters = k,init = 'random', max_iter = 30,random_state = 1, n_init = 10)\n",
    "    kmeans.fit(df)\n",
    "    List.append(kmeans.inertia_)\n",
    "    \n",
    "from kneed import KneeLocator\n",
    "\n",
    "kl = KneeLocator(range(2,9), List, curve = 'convex')\n",
    "kl.elbow\n",
    "plt.style.use(\"seaborn\")\n",
    "plt.plot(range(2,9),List)\n",
    "plt.xticks(range(2,9))\n",
    "plt.axvline(x = kl.elbow, color = 'r',label = 'axvline - full height',ls = '--')\n",
    "plt.show()"
   ]
  },
  {
   "cell_type": "code",
   "execution_count": null,
   "id": "e3b69a5d",
   "metadata": {},
   "outputs": [],
   "source": [
    "# Using scree plot we decided to run k = 4"
   ]
  },
  {
   "cell_type": "code",
   "execution_count": 90,
   "id": "8f0066e9",
   "metadata": {},
   "outputs": [],
   "source": [
    "model = KMeans(n_clusters = 4)\n",
    "yy = model.fit(df)"
   ]
  },
  {
   "cell_type": "code",
   "execution_count": 91,
   "id": "cb82b080",
   "metadata": {},
   "outputs": [
    {
     "data": {
      "text/plain": [
       "array([1, 1, 2, 1, 1, 1, 1, 1, 0, 1, 0, 1, 1, 2, 1, 3, 1, 3, 1, 1, 3, 2,\n",
       "       1, 3, 1])"
      ]
     },
     "execution_count": 91,
     "metadata": {},
     "output_type": "execute_result"
    }
   ],
   "source": [
    "model.labels_"
   ]
  },
  {
   "cell_type": "code",
   "execution_count": 92,
   "id": "593ee5bc",
   "metadata": {},
   "outputs": [],
   "source": [
    "series = pd.Series(model.labels_)"
   ]
  },
  {
   "cell_type": "code",
   "execution_count": 95,
   "id": "675b5a75",
   "metadata": {},
   "outputs": [],
   "source": [
    "data['Cluster'] = series"
   ]
  },
  {
   "cell_type": "code",
   "execution_count": 96,
   "id": "3a39405e",
   "metadata": {},
   "outputs": [
    {
     "data": {
      "text/html": [
       "<div>\n",
       "<style scoped>\n",
       "    .dataframe tbody tr th:only-of-type {\n",
       "        vertical-align: middle;\n",
       "    }\n",
       "\n",
       "    .dataframe tbody tr th {\n",
       "        vertical-align: top;\n",
       "    }\n",
       "\n",
       "    .dataframe thead th {\n",
       "        text-align: right;\n",
       "    }\n",
       "</style>\n",
       "<table border=\"1\" class=\"dataframe\">\n",
       "  <thead>\n",
       "    <tr style=\"text-align: right;\">\n",
       "      <th></th>\n",
       "      <th>Univ</th>\n",
       "      <th>State</th>\n",
       "      <th>SAT</th>\n",
       "      <th>Top10</th>\n",
       "      <th>Accept</th>\n",
       "      <th>SFRatio</th>\n",
       "      <th>Expenses</th>\n",
       "      <th>GradRate</th>\n",
       "      <th>Cluster</th>\n",
       "    </tr>\n",
       "  </thead>\n",
       "  <tbody>\n",
       "    <tr>\n",
       "      <th>0</th>\n",
       "      <td>Brown</td>\n",
       "      <td>RI</td>\n",
       "      <td>1310.0</td>\n",
       "      <td>89</td>\n",
       "      <td>22</td>\n",
       "      <td>13.0</td>\n",
       "      <td>22704</td>\n",
       "      <td>94.000000</td>\n",
       "      <td>1</td>\n",
       "    </tr>\n",
       "    <tr>\n",
       "      <th>1</th>\n",
       "      <td>CalTech</td>\n",
       "      <td>CA</td>\n",
       "      <td>1415.0</td>\n",
       "      <td>100</td>\n",
       "      <td>25</td>\n",
       "      <td>6.5</td>\n",
       "      <td>63575</td>\n",
       "      <td>81.000000</td>\n",
       "      <td>1</td>\n",
       "    </tr>\n",
       "    <tr>\n",
       "      <th>2</th>\n",
       "      <td>CMU</td>\n",
       "      <td>PA</td>\n",
       "      <td>1260.0</td>\n",
       "      <td>62</td>\n",
       "      <td>59</td>\n",
       "      <td>9.0</td>\n",
       "      <td>25026</td>\n",
       "      <td>72.000000</td>\n",
       "      <td>2</td>\n",
       "    </tr>\n",
       "    <tr>\n",
       "      <th>3</th>\n",
       "      <td>Columbia</td>\n",
       "      <td>NY</td>\n",
       "      <td>1310.0</td>\n",
       "      <td>76</td>\n",
       "      <td>24</td>\n",
       "      <td>12.0</td>\n",
       "      <td>31510</td>\n",
       "      <td>86.666667</td>\n",
       "      <td>1</td>\n",
       "    </tr>\n",
       "    <tr>\n",
       "      <th>4</th>\n",
       "      <td>Cornell</td>\n",
       "      <td>NY</td>\n",
       "      <td>1280.0</td>\n",
       "      <td>83</td>\n",
       "      <td>33</td>\n",
       "      <td>13.0</td>\n",
       "      <td>21864</td>\n",
       "      <td>90.000000</td>\n",
       "      <td>1</td>\n",
       "    </tr>\n",
       "  </tbody>\n",
       "</table>\n",
       "</div>"
      ],
      "text/plain": [
       "       Univ State     SAT  Top10  Accept  SFRatio  Expenses   GradRate  \\\n",
       "0     Brown    RI  1310.0     89      22     13.0     22704  94.000000   \n",
       "1   CalTech    CA  1415.0    100      25      6.5     63575  81.000000   \n",
       "2       CMU    PA  1260.0     62      59      9.0     25026  72.000000   \n",
       "3  Columbia    NY  1310.0     76      24     12.0     31510  86.666667   \n",
       "4   Cornell    NY  1280.0     83      33     13.0     21864  90.000000   \n",
       "\n",
       "   Cluster  \n",
       "0        1  \n",
       "1        1  \n",
       "2        2  \n",
       "3        1  \n",
       "4        1  "
      ]
     },
     "execution_count": 96,
     "metadata": {},
     "output_type": "execute_result"
    }
   ],
   "source": [
    "data.head()"
   ]
  },
  {
   "cell_type": "code",
   "execution_count": null,
   "id": "1862c486",
   "metadata": {},
   "outputs": [],
   "source": [
    "# check evaluation metric"
   ]
  },
  {
   "cell_type": "code",
   "execution_count": 97,
   "id": "1a2cb331",
   "metadata": {},
   "outputs": [],
   "source": [
    "from sklearn import metrics"
   ]
  },
  {
   "cell_type": "code",
   "execution_count": 98,
   "id": "85d4c0e3",
   "metadata": {},
   "outputs": [
    {
     "data": {
      "text/plain": [
       "0.16187505729127116"
      ]
     },
     "execution_count": 98,
     "metadata": {},
     "output_type": "execute_result"
    }
   ],
   "source": [
    "metrics.silhouette_score(df,model.labels_)"
   ]
  },
  {
   "cell_type": "markdown",
   "id": "ca34a08d",
   "metadata": {},
   "source": [
    "# Evaluation of Number of Clusters using Silhouette Coefficient Technique"
   ]
  },
  {
   "cell_type": "code",
   "execution_count": 99,
   "id": "e665e17b",
   "metadata": {},
   "outputs": [],
   "source": [
    "from sklearn.metrics import silhouette_score"
   ]
  },
  {
   "cell_type": "code",
   "execution_count": 108,
   "id": "feea63f6",
   "metadata": {},
   "outputs": [],
   "source": [
    "silhouette_coefficients = []\n",
    "\n",
    "for k in range(2,9):\n",
    "    kmeans = KMeans(n_clusters = k,init ='random',random_state =1)\n",
    "    kmeans.fit(df)\n",
    "    score = silhouette_score(df,kmeans.labels_)\n",
    "    k=k\n",
    "    sil_coeff = score\n",
    "    silhouette_coefficients.append([k,sil_coeff])\n",
    "  "
   ]
  },
  {
   "cell_type": "code",
   "execution_count": 109,
   "id": "14b12436",
   "metadata": {},
   "outputs": [
    {
     "data": {
      "text/plain": [
       "[[2, 0.2750943552754984],\n",
       " [3, 0.1805807963516841],\n",
       " [4, 0.16187505729127116],\n",
       " [5, 0.091781063445537],\n",
       " [6, 0.13885644306253858],\n",
       " [7, 0.07178141248642887],\n",
       " [8, 0.06429029630423254]]"
      ]
     },
     "execution_count": 109,
     "metadata": {},
     "output_type": "execute_result"
    }
   ],
   "source": [
    "silhouette_coefficients"
   ]
  },
  {
   "cell_type": "markdown",
   "id": "397abce5",
   "metadata": {},
   "source": [
    "# k = 2 Best value"
   ]
  },
  {
   "cell_type": "code",
   "execution_count": 110,
   "id": "f5a0e4b2",
   "metadata": {},
   "outputs": [],
   "source": [
    "k = KMeans(n_clusters = 2)\n",
    "k1 = k.fit(df)"
   ]
  },
  {
   "cell_type": "code",
   "execution_count": 111,
   "id": "11078927",
   "metadata": {},
   "outputs": [
    {
     "data": {
      "text/plain": [
       "array([1, 1, 0, 1, 1, 1, 1, 1, 1, 1, 1, 1, 1, 0, 1, 0, 1, 0, 1, 1, 0, 0,\n",
       "       1, 0, 1])"
      ]
     },
     "execution_count": 111,
     "metadata": {},
     "output_type": "execute_result"
    }
   ],
   "source": [
    "k.labels_"
   ]
  },
  {
   "cell_type": "code",
   "execution_count": 112,
   "id": "92c9a47b",
   "metadata": {},
   "outputs": [],
   "source": [
    "series = pd.Series(k.labels_)"
   ]
  },
  {
   "cell_type": "code",
   "execution_count": 121,
   "id": "cd7f5deb",
   "metadata": {},
   "outputs": [],
   "source": [
    "data['Cluster_2'] = series"
   ]
  },
  {
   "cell_type": "code",
   "execution_count": 122,
   "id": "e5656d7a",
   "metadata": {},
   "outputs": [
    {
     "data": {
      "text/html": [
       "<div>\n",
       "<style scoped>\n",
       "    .dataframe tbody tr th:only-of-type {\n",
       "        vertical-align: middle;\n",
       "    }\n",
       "\n",
       "    .dataframe tbody tr th {\n",
       "        vertical-align: top;\n",
       "    }\n",
       "\n",
       "    .dataframe thead th {\n",
       "        text-align: right;\n",
       "    }\n",
       "</style>\n",
       "<table border=\"1\" class=\"dataframe\">\n",
       "  <thead>\n",
       "    <tr style=\"text-align: right;\">\n",
       "      <th></th>\n",
       "      <th>Univ</th>\n",
       "      <th>State</th>\n",
       "      <th>SAT</th>\n",
       "      <th>Top10</th>\n",
       "      <th>Accept</th>\n",
       "      <th>SFRatio</th>\n",
       "      <th>Expenses</th>\n",
       "      <th>GradRate</th>\n",
       "      <th>Cluster(k=2)</th>\n",
       "      <th>Cluster_2</th>\n",
       "    </tr>\n",
       "  </thead>\n",
       "  <tbody>\n",
       "    <tr>\n",
       "      <th>0</th>\n",
       "      <td>Brown</td>\n",
       "      <td>RI</td>\n",
       "      <td>1310.0</td>\n",
       "      <td>89</td>\n",
       "      <td>22</td>\n",
       "      <td>13.0</td>\n",
       "      <td>22704</td>\n",
       "      <td>94.000000</td>\n",
       "      <td>1</td>\n",
       "      <td>1</td>\n",
       "    </tr>\n",
       "    <tr>\n",
       "      <th>1</th>\n",
       "      <td>CalTech</td>\n",
       "      <td>CA</td>\n",
       "      <td>1415.0</td>\n",
       "      <td>100</td>\n",
       "      <td>25</td>\n",
       "      <td>6.5</td>\n",
       "      <td>63575</td>\n",
       "      <td>81.000000</td>\n",
       "      <td>1</td>\n",
       "      <td>1</td>\n",
       "    </tr>\n",
       "    <tr>\n",
       "      <th>2</th>\n",
       "      <td>CMU</td>\n",
       "      <td>PA</td>\n",
       "      <td>1260.0</td>\n",
       "      <td>62</td>\n",
       "      <td>59</td>\n",
       "      <td>9.0</td>\n",
       "      <td>25026</td>\n",
       "      <td>72.000000</td>\n",
       "      <td>0</td>\n",
       "      <td>0</td>\n",
       "    </tr>\n",
       "    <tr>\n",
       "      <th>3</th>\n",
       "      <td>Columbia</td>\n",
       "      <td>NY</td>\n",
       "      <td>1310.0</td>\n",
       "      <td>76</td>\n",
       "      <td>24</td>\n",
       "      <td>12.0</td>\n",
       "      <td>31510</td>\n",
       "      <td>86.666667</td>\n",
       "      <td>1</td>\n",
       "      <td>1</td>\n",
       "    </tr>\n",
       "    <tr>\n",
       "      <th>4</th>\n",
       "      <td>Cornell</td>\n",
       "      <td>NY</td>\n",
       "      <td>1280.0</td>\n",
       "      <td>83</td>\n",
       "      <td>33</td>\n",
       "      <td>13.0</td>\n",
       "      <td>21864</td>\n",
       "      <td>90.000000</td>\n",
       "      <td>1</td>\n",
       "      <td>1</td>\n",
       "    </tr>\n",
       "  </tbody>\n",
       "</table>\n",
       "</div>"
      ],
      "text/plain": [
       "       Univ State     SAT  Top10  Accept  SFRatio  Expenses   GradRate  \\\n",
       "0     Brown    RI  1310.0     89      22     13.0     22704  94.000000   \n",
       "1   CalTech    CA  1415.0    100      25      6.5     63575  81.000000   \n",
       "2       CMU    PA  1260.0     62      59      9.0     25026  72.000000   \n",
       "3  Columbia    NY  1310.0     76      24     12.0     31510  86.666667   \n",
       "4   Cornell    NY  1280.0     83      33     13.0     21864  90.000000   \n",
       "\n",
       "   Cluster(k=2)  Cluster_2  \n",
       "0             1          1  \n",
       "1             1          1  \n",
       "2             0          0  \n",
       "3             1          1  \n",
       "4             1          1  "
      ]
     },
     "execution_count": 122,
     "metadata": {},
     "output_type": "execute_result"
    }
   ],
   "source": [
    "data.head()"
   ]
  },
  {
   "cell_type": "code",
   "execution_count": 123,
   "id": "957f1e97",
   "metadata": {},
   "outputs": [],
   "source": [
    "data.drop(['Cluster(k=2)'],axis = 1,inplace = True)"
   ]
  },
  {
   "cell_type": "code",
   "execution_count": 124,
   "id": "612bd5a1",
   "metadata": {},
   "outputs": [
    {
     "data": {
      "text/html": [
       "<div>\n",
       "<style scoped>\n",
       "    .dataframe tbody tr th:only-of-type {\n",
       "        vertical-align: middle;\n",
       "    }\n",
       "\n",
       "    .dataframe tbody tr th {\n",
       "        vertical-align: top;\n",
       "    }\n",
       "\n",
       "    .dataframe thead th {\n",
       "        text-align: right;\n",
       "    }\n",
       "</style>\n",
       "<table border=\"1\" class=\"dataframe\">\n",
       "  <thead>\n",
       "    <tr style=\"text-align: right;\">\n",
       "      <th></th>\n",
       "      <th>Univ</th>\n",
       "      <th>State</th>\n",
       "      <th>SAT</th>\n",
       "      <th>Top10</th>\n",
       "      <th>Accept</th>\n",
       "      <th>SFRatio</th>\n",
       "      <th>Expenses</th>\n",
       "      <th>GradRate</th>\n",
       "      <th>Cluster_2</th>\n",
       "    </tr>\n",
       "  </thead>\n",
       "  <tbody>\n",
       "    <tr>\n",
       "      <th>0</th>\n",
       "      <td>Brown</td>\n",
       "      <td>RI</td>\n",
       "      <td>1310.0</td>\n",
       "      <td>89</td>\n",
       "      <td>22</td>\n",
       "      <td>13.0</td>\n",
       "      <td>22704</td>\n",
       "      <td>94.000000</td>\n",
       "      <td>1</td>\n",
       "    </tr>\n",
       "    <tr>\n",
       "      <th>1</th>\n",
       "      <td>CalTech</td>\n",
       "      <td>CA</td>\n",
       "      <td>1415.0</td>\n",
       "      <td>100</td>\n",
       "      <td>25</td>\n",
       "      <td>6.5</td>\n",
       "      <td>63575</td>\n",
       "      <td>81.000000</td>\n",
       "      <td>1</td>\n",
       "    </tr>\n",
       "    <tr>\n",
       "      <th>2</th>\n",
       "      <td>CMU</td>\n",
       "      <td>PA</td>\n",
       "      <td>1260.0</td>\n",
       "      <td>62</td>\n",
       "      <td>59</td>\n",
       "      <td>9.0</td>\n",
       "      <td>25026</td>\n",
       "      <td>72.000000</td>\n",
       "      <td>0</td>\n",
       "    </tr>\n",
       "    <tr>\n",
       "      <th>3</th>\n",
       "      <td>Columbia</td>\n",
       "      <td>NY</td>\n",
       "      <td>1310.0</td>\n",
       "      <td>76</td>\n",
       "      <td>24</td>\n",
       "      <td>12.0</td>\n",
       "      <td>31510</td>\n",
       "      <td>86.666667</td>\n",
       "      <td>1</td>\n",
       "    </tr>\n",
       "    <tr>\n",
       "      <th>4</th>\n",
       "      <td>Cornell</td>\n",
       "      <td>NY</td>\n",
       "      <td>1280.0</td>\n",
       "      <td>83</td>\n",
       "      <td>33</td>\n",
       "      <td>13.0</td>\n",
       "      <td>21864</td>\n",
       "      <td>90.000000</td>\n",
       "      <td>1</td>\n",
       "    </tr>\n",
       "  </tbody>\n",
       "</table>\n",
       "</div>"
      ],
      "text/plain": [
       "       Univ State     SAT  Top10  Accept  SFRatio  Expenses   GradRate  \\\n",
       "0     Brown    RI  1310.0     89      22     13.0     22704  94.000000   \n",
       "1   CalTech    CA  1415.0    100      25      6.5     63575  81.000000   \n",
       "2       CMU    PA  1260.0     62      59      9.0     25026  72.000000   \n",
       "3  Columbia    NY  1310.0     76      24     12.0     31510  86.666667   \n",
       "4   Cornell    NY  1280.0     83      33     13.0     21864  90.000000   \n",
       "\n",
       "   Cluster_2  \n",
       "0          1  \n",
       "1          1  \n",
       "2          0  \n",
       "3          1  \n",
       "4          1  "
      ]
     },
     "execution_count": 124,
     "metadata": {},
     "output_type": "execute_result"
    }
   ],
   "source": [
    "data.head()"
   ]
  },
  {
   "cell_type": "code",
   "execution_count": 125,
   "id": "05ce6191",
   "metadata": {},
   "outputs": [
    {
     "data": {
      "text/html": [
       "<div>\n",
       "<style scoped>\n",
       "    .dataframe tbody tr th:only-of-type {\n",
       "        vertical-align: middle;\n",
       "    }\n",
       "\n",
       "    .dataframe tbody tr th {\n",
       "        vertical-align: top;\n",
       "    }\n",
       "\n",
       "    .dataframe thead th {\n",
       "        text-align: right;\n",
       "    }\n",
       "</style>\n",
       "<table border=\"1\" class=\"dataframe\">\n",
       "  <thead>\n",
       "    <tr style=\"text-align: right;\">\n",
       "      <th></th>\n",
       "      <th>SAT</th>\n",
       "      <th>Top10</th>\n",
       "      <th>Accept</th>\n",
       "      <th>SFRatio</th>\n",
       "      <th>Expenses</th>\n",
       "      <th>GradRate</th>\n",
       "    </tr>\n",
       "    <tr>\n",
       "      <th>Cluster_2</th>\n",
       "      <th></th>\n",
       "      <th></th>\n",
       "      <th></th>\n",
       "      <th></th>\n",
       "      <th></th>\n",
       "      <th></th>\n",
       "    </tr>\n",
       "  </thead>\n",
       "  <tbody>\n",
       "    <tr>\n",
       "      <th>0</th>\n",
       "      <td>1155.000000</td>\n",
       "      <td>58.142857</td>\n",
       "      <td>63.142857</td>\n",
       "      <td>15.142857</td>\n",
       "      <td>15408.714286</td>\n",
       "      <td>76.285714</td>\n",
       "    </tr>\n",
       "    <tr>\n",
       "      <th>1</th>\n",
       "      <td>1316.773148</td>\n",
       "      <td>86.111111</td>\n",
       "      <td>29.833333</td>\n",
       "      <td>11.361111</td>\n",
       "      <td>32046.611111</td>\n",
       "      <td>90.703704</td>\n",
       "    </tr>\n",
       "  </tbody>\n",
       "</table>\n",
       "</div>"
      ],
      "text/plain": [
       "                   SAT      Top10     Accept    SFRatio      Expenses  \\\n",
       "Cluster_2                                                               \n",
       "0          1155.000000  58.142857  63.142857  15.142857  15408.714286   \n",
       "1          1316.773148  86.111111  29.833333  11.361111  32046.611111   \n",
       "\n",
       "            GradRate  \n",
       "Cluster_2             \n",
       "0          76.285714  \n",
       "1          90.703704  "
      ]
     },
     "execution_count": 125,
     "metadata": {},
     "output_type": "execute_result"
    }
   ],
   "source": [
    "data.iloc[ : ,2:8].groupby(data.Cluster_2).mean()"
   ]
  }
 ],
 "metadata": {
  "kernelspec": {
   "display_name": "Python 3 (ipykernel)",
   "language": "python",
   "name": "python3"
  },
  "language_info": {
   "codemirror_mode": {
    "name": "ipython",
    "version": 3
   },
   "file_extension": ".py",
   "mimetype": "text/x-python",
   "name": "python",
   "nbconvert_exporter": "python",
   "pygments_lexer": "ipython3",
   "version": "3.11.4"
  }
 },
 "nbformat": 4,
 "nbformat_minor": 5
}
